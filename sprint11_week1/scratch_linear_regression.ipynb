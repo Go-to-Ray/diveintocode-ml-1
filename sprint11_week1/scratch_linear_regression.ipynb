{
 "cells": [
  {
   "cell_type": "markdown",
   "metadata": {},
   "source": [
    "># 【問題1】仮定関数  \n",
    "以下の数式で表される線形回帰の仮定関数を実装してください。メソッドの雛形を用意してあります。  \n",
    "\n",
    "$\n",
    "h_\\theta(x) =  \\theta_0 x_0 + \\theta_1 x_1 + ... + \\theta_j x_j + ... +\\theta_n x_n.   (x_0 = 1)\\\\\n",
    "$\n",
    "\n",
    "x: 特徴量ベクトル\n",
    "\n",
    "θ : パラメータベクトル\n",
    "\n",
    "n : 特徴量の数\n",
    "\n",
    "\n",
    "$x_j$: j番目の特徴量\n",
    "\n",
    "$θ_j$: j番目のパラメータ（重み）\n",
    "\n",
    "特徴量の数nは任意の値に対応できる実装にしてください。\n",
    "\n",
    "なお、ベクトル形式で表すと以下のようになります。\n",
    "\n",
    "$\n",
    "h_\\theta(x) = \\theta^T \\cdot x.\n",
    "$\n"
   ]
  },
  {
   "cell_type": "code",
   "execution_count": 26,
   "metadata": {},
   "outputs": [],
   "source": [
    "import numpy as np\n",
    "import pandas as pd\n",
    "import matplotlib.pyplot as plt\n",
    "from sklearn.model_selection import train_test_split\n",
    "import warnings\n",
    "import seaborn as sns\n",
    "from sklearn.linear_model import LinearRegression\n",
    "from sklearn.metrics import mean_squared_error\n",
    "from sklearn.model_selection import KFold\n",
    "warnings.simplefilter(\"ignore\")"
   ]
  },
  {
   "cell_type": "markdown",
   "metadata": {},
   "source": [
    "># 【問題2】最急降下法  \n",
    "最急降下法により学習させる実装を行なってください。以下の式で表されるパラメータの更新式のメソッド_gradient_descentを追加し、fitメソッドから呼び出すようにしてください。\n",
    "\n",
    "$\n",
    "\\theta_j := \\theta_j - \\alpha \\frac{1}{m} \\sum_{i=1}^{m}[(h_\\theta(x^{(i)}) - y^{(i)} )x_{j}^{(i)}]\n",
    "$\n",
    "\n",
    "$α$:学習率\n",
    "\n",
    "$i$:サンプルのインデックス\n",
    "\n",
    "$j$:特徴量のインデックス"
   ]
  },
  {
   "cell_type": "code",
   "execution_count": 61,
   "metadata": {},
   "outputs": [],
   "source": [
    "class ScratchLinearRegression():\n",
    "    \"\"\"\n",
    "    線形回帰のスクラッチ実装\n",
    "    \n",
    "    Parameters\n",
    "    ----------\n",
    "    num_iter : int\n",
    "      イテレーション数\n",
    "    lr : float\n",
    "      学習率\n",
    "    no_bias : bool\n",
    "      バイアス項を入れない場合はTrue\n",
    "    verbose : bool\n",
    "      学習過程を出力する場合はTrue\n",
    "    \n",
    "    Attributes\n",
    "    ----------\n",
    "    self.coef_ : 次の形のndarray, shape (n_features,)\n",
    "      パラメータ\n",
    "    self.loss : 次の形のndarray, shape (self.iter,)\n",
    "      訓練データに対する損失の記録\n",
    "    self.val_loss : 次の形のndarray, shape (self.iter,)\n",
    "      検証データに対する損失の記録\n",
    "    \"\"\"\n",
    "    \n",
    "    def __init__(self, num_iter=5000, lr=1e-5, no_bias=False, verbose=False):\n",
    "        # ハイパーパラメータを属性として記録\n",
    "        self.iter = num_iter\n",
    "        self.lr = lr\n",
    "        self.no_bias = no_bias\n",
    "        self.verbose = verbose\n",
    "        # 損失を記録する配列を用意\n",
    "        self.loss = np.zeros(self.iter)\n",
    "        self.val_loss = np.zeros(self.iter)\n",
    "        \n",
    "    def fit(self, X, y, X_val=np.empty(1), y_val=np.empty(1)):\n",
    "        \"\"\"\n",
    "        線形回帰を学習する。検証データが入力された場合はそれに対する損失と精度もイテレーションごとに計算する。\n",
    "        Parameters\n",
    "        ----------\n",
    "        X : 次の形のndarray, shape (n_samples, n_features)\n",
    "            訓練データの特徴量\n",
    "        y : 次の形のndarray, shape (n_samples, )\n",
    "            訓練データの正解値\n",
    "        X_val : 次の形のndarray, shape (n_samples, n_features)\n",
    "            検証データの特徴量\n",
    "        y_val : 次の形のndarray, shape (n_samples, )\n",
    "            検証データの正解値\n",
    "        \"\"\"\n",
    "        self.y = y[:,np.newaxis]  #_linear_hypothesisの返り値（行列）にサイズを合わせるためreshapeする\n",
    "        self.y_val = y_val\n",
    "        if self.no_bias == False:  #バイアス項がある時\n",
    "            if X.ndim == 1:  #１次元の時(２次元であればここはスルー)\n",
    "                X = X[:,np.newaxis]  #バイアス項と結合できるようにXを２次元に変形\n",
    "            self.X = np.concatenate([np.ones(X.shape[0])[:,np.newaxis],X],axis=1)  #バイアス項を結合\n",
    "            if(len(X_val) != 1) & (len(y_val) != 1): #検証データが入力された場合（入力されない場合は何もしない）\n",
    "                if X_val.ndim == 1:  #検証データが１次元の時\n",
    "                    X_val = X_val[:,np.newaxis]  #バイアス項と結合できるようにXを２次元に変形\n",
    "                self.X_val = np.concatenate([np.ones(X_val.shape[0])[:,np.newaxis],X_val],axis=1)  #バイアス項を結合\n",
    "        else:  #バイアス項がない時\n",
    "            if X.ndim ==1:  #Xが１次元の時\n",
    "                self.X = X[:,np.newaxis]\n",
    "                self.X_val = X_val[:,np.newaxis]\n",
    "            else:  #Xが２次元の時\n",
    "                self.X = X\n",
    "                self.X_val = X_val\n",
    "        \n",
    "        if (len(X_val) != 1) & (len(y_val) != 1):  #検証データが入力された場合\n",
    "            error = self._gradient_descent(self.X)\n",
    "            self.loss[0] = loss_func(self.predict(self.X),y)\n",
    "            self.val_loss[0] = loss_func(self.predict(self.X_val),y_val)\n",
    "            for i in range(self.iter-1):  #iter-1回_gradient_descentを実行する\n",
    "                error = self._gradient_descent(self.X,error)\n",
    "                self.loss[i+1] = loss_func(self.predict(self.X),y)\n",
    "                self.val_loss[i+1] = loss_func(self.predict(self.X_val),self.y_val)\n",
    "                if self.verbose:\n",
    "                    #verboseをTrueにした際は学習過程を出力\n",
    "                    print(\"{}回目\".format(i+1))\n",
    "                    print(\"theta:{}\".format(self.theta))\n",
    "                    print(\"損失:{}\".format(self.val_loss[i+1]))\n",
    "                    print(\"精度（平均2乗誤差）:{}\\n\".format(MSE(self.predict(self.X_val),self.y_val)))\n",
    "        else:  #検証データが入力されない場合\n",
    "            error = self._gradient_descent(self.X)\n",
    "            self.loss[0] =  loss_func(self.predict(self.X),y)\n",
    "            for i in range(self.iter-1):\n",
    "                error = self._gradient_descent(self.X,error)\n",
    "                self.loss[i+1] = loss_func(self.predict(self.X),y)\n",
    "                if self.verbose:\n",
    "                    #verboseをTrueにした際は学習過程を出力\n",
    "                    print(\"{}回目\".format(i+1))\n",
    "                    print(\"theta:\\n{}\".format(self.theta))\n",
    "    \n",
    "    def _gradient_descent(self, X,error=np.empty(1)):\n",
    "        \"\"\"\n",
    "        θとXを用いて次のθを計算する\n",
    "        Parameters\n",
    "        ----------\n",
    "        X : 次の形のndarray, shape (n_samples, n_features)\n",
    "            訓練データの特徴量\n",
    "        \n",
    "        error:次の形のndarray,shape (n_samples,)\n",
    "            予測値と正解値の残差\n",
    "        --------\n",
    "        Returns\n",
    "        --------\n",
    "        次の形のndarray,shape(n_samples,)\n",
    "        予測値と正解値の残差\n",
    "        \"\"\"\n",
    "        if error.shape == (1,):  #errorが渡されていない時\n",
    "            self.theta = np.ones(X.shape[1]).reshape(1,-1)#.reshape(1,X.shape[1])  #θを1で初期化\n",
    "            error = (self._linear_hypothesis(X) - self.y).flatten()\n",
    "        else:  #errorが渡されている時\n",
    "            error = (self._linear_hypothesis(X) - self.y).flatten()\n",
    "            error = (self._linear_hypothesis(X) - self.y).flatten()\n",
    "        #次に使うθを計算\n",
    "        self.theta = self.theta - (self.lr/X.shape[0])*error@X\n",
    "        return error\n",
    "    \n",
    "    def _linear_hypothesis(self, X):\n",
    "        \"\"\"\n",
    "        線形の仮定関数を計算する\n",
    "        Parameters\n",
    "        ----------\n",
    "        X : 次の形のndarray, shape (n_samples, n_features)\n",
    "        訓練データ\n",
    "        Returns\n",
    "        -------\n",
    "        次の形のndarray, shape (n_samples, 1)\n",
    "        線形の仮定関数による推定結果\n",
    "        \"\"\"\n",
    "        if X.ndim == 1:  #Xが１次元の時\n",
    "            X = X[:,np.newaxis]  #２次元に変形\n",
    "        if (X.shape[1] != self.theta.T.shape[0])&(self.no_bias==False):\n",
    "            #x_0が含まれていない状態でXを受け取り（外部からのメソッド呼び出しを想定）、かつバイアス項を使う時\n",
    "            X = np.concatenate([np.ones(X.shape[0])[:,np.newaxis],X],axis=1)\n",
    "        return np.dot(X,self.theta.T)\n",
    "    \n",
    "    def predict(self, X):\n",
    "        \"\"\"\n",
    "        線形回帰を使い推定する。\n",
    "        Parameters\n",
    "        ----------\n",
    "        X : 次の形のndarray, shape (n_samples, n_features)\n",
    "            サンプル\n",
    "        Returns\n",
    "        -------\n",
    "            次の形のndarray, shape (n_samples, 1)\n",
    "            線形回帰による推定結果\n",
    "        \"\"\"\n",
    "        return self._linear_hypothesis(X)"
   ]
  },
  {
   "cell_type": "markdown",
   "metadata": {},
   "source": [
    "># 【問題3】推定\n",
    "推定する仕組みを実装してください。ScratchLinearRegressionクラスの雛形に含まれるpredictメソッドに書き加えてください。  \n",
    "仮定関数$h_\\theta(x)$の出力が推定結果です。\n",
    "\n"
   ]
  },
  {
   "cell_type": "markdown",
   "metadata": {},
   "source": [
    "上でクラスの中に定義"
   ]
  },
  {
   "cell_type": "markdown",
   "metadata": {},
   "source": [
    "># 【問題4】平均二乗誤差  \n",
    "線形回帰の指標値として用いられる平均二乗誤差（mean square error, MSE）の関数を作成してください。\n",
    "平均二乗誤差関数は回帰問題全般で使える関数のため、ScratchLinearRegressionクラスのメソッドではなく、別の関数として作成してください。雛形を用意してあります。  \n",
    "平均二乗誤差は以下の数式で表されます。 \n",
    "\n",
    ">$\n",
    "L(\\theta)=  \\frac{1 }{ m}  \\sum_{i=1}^{m} (h_\\theta(x^{(i)})-y^{(i)})^2.\n",
    "$  \n",
    "\n",
    ">$m$:入力されるデータの数  \n",
    "$h_\\theta()$:仮定関数  \n",
    "$x^{(i)}$:i番目のサンプルの正解値  \n",
    "$y^{(i)}$:i番目のサンプルの正解値  \n",
    "なお、最急降下法のための目的関数（損失関数）としては、これを2で割ったものを使用します。（問題5, 9）"
   ]
  },
  {
   "cell_type": "code",
   "execution_count": 3,
   "metadata": {},
   "outputs": [],
   "source": [
    "#平均2乗誤差\n",
    "def MSE(y_pred,y):\n",
    "    \"\"\"\n",
    "    平均二乗誤差の計算\n",
    "\n",
    "    Parameters\n",
    "    ----------\n",
    "    y_pred : 次の形のndarray, shape (n_samples,)\n",
    "      推定した値\n",
    "    y : 次の形のndarray, shape (n_samples,)\n",
    "      正解値\n",
    "\n",
    "    Returns\n",
    "    ----------\n",
    "    mse : numpy.float\n",
    "      平均二乗誤差\n",
    "    \"\"\"\n",
    "    mse = ((y_pred - y)**2).mean()\n",
    "    return mse"
   ]
  },
  {
   "cell_type": "markdown",
   "metadata": {},
   "source": [
    "# 【問題5】目的関数\n",
    "以下の数式で表される線形回帰の 目的関数（損失関数） を実装してください。そして、これをself.loss, self.val_lossに記録するようにしてください。  \n",
    "目的関数（損失関数） $J(\\theta)$ は次の式です。  \n",
    "\n",
    "$\n",
    "J(\\theta)=  \\frac{1 }{ 2m}  \\sum_{i=1}^{m} (h_\\theta(x^{(i)})-y^{(i)})^2.\n",
    "$\n",
    "\n",
    "$m$ : 入力されるデータの数\n",
    "\n",
    "\n",
    "$h_\\theta()$ : 仮定関数\n",
    "\n",
    "$x^{(i)}$ : i番目のサンプルの特徴量ベクトル\n",
    "\n",
    "$y^{(i)}$ : i番目のサンプルの正解値\n",
    "\n"
   ]
  },
  {
   "cell_type": "code",
   "execution_count": 4,
   "metadata": {},
   "outputs": [],
   "source": [
    "#損失関数\n",
    "def loss_func(y_pred,y):\n",
    "    return MSE(y_pred,y)/2"
   ]
  },
  {
   "cell_type": "markdown",
   "metadata": {},
   "source": [
    "# 【問題6】学習と推定\n",
    "機械学習スクラッチ入門のSprintで用意したHouse Pricesコンペティションのデータに対してスクラッチ実装の学習と推定を行なってください。\n",
    "\n",
    "scikit-learnによる実装と比べ、正しく動いているかを確認してください。\n",
    "\n"
   ]
  },
  {
   "cell_type": "code",
   "execution_count": 33,
   "metadata": {},
   "outputs": [],
   "source": [
    "df = pd.read_csv(\"../week3/train.csv\")\n",
    "#目的変数と相関関係の高い５つの特徴量\n",
    "features_list = [\"YearBuilt\",\"GrLivArea\"]\n",
    "df_x = df[features_list]\n",
    "df_y = df.SalePrice"
   ]
  },
  {
   "cell_type": "code",
   "execution_count": 34,
   "metadata": {},
   "outputs": [
    {
     "name": "stdout",
     "output_type": "stream",
     "text": [
      "尖度：6.536281860064529\n",
      "歪度：1.8828757597682129\n"
     ]
    },
    {
     "data": {
      "image/png": "[encoded data removed]",
      "text/plain": [
       "<Figure size 432x288 with 1 Axes>"
      ]
     },
     "metadata": {
      "needs_background": "light"
     },
     "output_type": "display_data"
    }
   ],
   "source": [
    "print(\"尖度：{}\".format(df_y.kurt()))\n",
    "print(\"歪度：{}\".format(df_y.skew()))\n",
    "sns.distplot(df_y)\n",
    "plt.show()"
   ]
  },
  {
   "cell_type": "code",
   "execution_count": 35,
   "metadata": {},
   "outputs": [
    {
     "name": "stdout",
     "output_type": "stream",
     "text": [
      "尖度：0.8095319958036296\n",
      "歪度：0.12133506220520406\n"
     ]
    },
    {
     "data": {
      "image/png": "[encoded data removed]",
      "text/plain": [
       "<Figure size 432x288 with 1 Axes>"
      ]
     },
     "metadata": {
      "needs_background": "light"
     },
     "output_type": "display_data"
    }
   ],
   "source": [
    "#対数変換を行い、正規分布に近づける\n",
    "\n",
    "df_x = df_x.apply(np.log)\n",
    "df_y = df_y.apply(np.log)\n",
    "print(\"尖度：{}\".format(df_y.kurt()))\n",
    "print(\"歪度：{}\".format(df_y.skew()))\n",
    "sns.distplot(df_y)\n",
    "plt.show()"
   ]
  },
  {
   "cell_type": "code",
   "execution_count": 36,
   "metadata": {},
   "outputs": [
    {
     "data": {
      "text/plain": [
       "LinearRegression()"
      ]
     },
     "execution_count": 36,
     "metadata": {},
     "output_type": "execute_result"
    }
   ],
   "source": [
    "x_train,x_test,y_train,y_test = \\\n",
    "train_test_split(np.array(df_x),np.array(df_y),train_size = 0.8,random_state=1)\n",
    "lr = ScratchLinearRegression(verbose=False)\n",
    "true_lr = LinearRegression()\n",
    "lr.fit(x_train,y_train,x_test,y_test)\n",
    "true_lr.fit(x_train,y_train)"
   ]
  },
  {
   "cell_type": "code",
   "execution_count": 37,
   "metadata": {},
   "outputs": [
    {
     "name": "stdout",
     "output_type": "stream",
     "text": [
      "平均2乗誤差(スクラッチ):0.24084845167707664\n",
      "平均2乗誤差(scikit-learn):0.0473970949071434\n"
     ]
    }
   ],
   "source": [
    "y_pred = lr.predict(x_test)\n",
    "true_pred = true_lr.predict(x_test)\n",
    "print(\"平均2乗誤差(スクラッチ):{}\".format(MSE(y_pred,y_test)))\n",
    "print(\"平均2乗誤差(scikit-learn):{}\".format(mean_squared_error(true_pred,y_test)))"
   ]
  },
  {
   "cell_type": "markdown",
   "metadata": {},
   "source": [
    "># 【問題7】学習曲線のプロット\n",
    "学習曲線を表示する関数を作成し、実行してください。グラフを見て損失が適切に下がっているかどうか確認してください。  \n",
    "線形回帰クラスの雛形ではself.loss, self.val_lossに損失を記録しておくようになっているため、入力にはこれを利用してください。"
   ]
  },
  {
   "cell_type": "code",
   "execution_count": 38,
   "metadata": {},
   "outputs": [
    {
     "data": {
      "image/png": "[encoded data removed]",
      "text/plain": [
       "<Figure size 648x432 with 1 Axes>"
      ]
     },
     "metadata": {
      "needs_background": "light"
     },
     "output_type": "display_data"
    }
   ],
   "source": [
    "fig,ax = plt.subplots(1,1,figsize=(9,6))\n",
    "ax.set_title(\"model loss(alpha={})\".format(lr.lr))\n",
    "ax.plot(np.arange(len(lr.loss)),lr.loss,label=\"train_loss\",linewidth=8)\n",
    "ax.plot(np.arange(len(lr.val_loss)),lr.val_loss,label=\"val_loss\",linewidth=8)\n",
    "ax.legend()\n",
    "plt.show()"
   ]
  },
  {
   "cell_type": "markdown",
   "metadata": {},
   "source": [
    "># 【問題8】（アドバンス課題）バイアス項の除去\n",
    "バイアス項 $\\theta_0$ を抜くと学習がどう変化するか検証してください。また、線形回帰モデルにおけるバイアス項の役割の考察・調査を行ってください。"
   ]
  },
  {
   "cell_type": "code",
   "execution_count": 39,
   "metadata": {},
   "outputs": [],
   "source": [
    "lr2 = ScratchLinearRegression(no_bias=True,verbose=False)\n",
    "lr2.fit(x_train,y_train,x_test,y_test,)"
   ]
  },
  {
   "cell_type": "code",
   "execution_count": 40,
   "metadata": {},
   "outputs": [
    {
     "name": "stdout",
     "output_type": "stream",
     "text": [
      "平均2乗誤差(バイアス項あり):0.24084845167707664\n",
      "平均2乗誤差(バイアス項なし):0.2518453265825777\n",
      "バイアス項ありのθ:[[0.96578399 0.74053903 0.75149331]]\n",
      "バイアス項なしのθ:[[0.80677193 0.81469295]]\n"
     ]
    }
   ],
   "source": [
    "y_pred2 = lr2.predict(x_test)\n",
    "print(\"平均2乗誤差(バイアス項あり):{}\".format(MSE(y_pred,y_test)))\n",
    "print(\"平均2乗誤差(バイアス項なし):{}\".format(MSE(y_pred2,y_test)))\n",
    "print(\"バイアス項ありのθ:{}\".format(lr.theta))\n",
    "print(\"バイアス項なしのθ:{}\".format(lr2.theta))"
   ]
  },
  {
   "cell_type": "code",
   "execution_count": 41,
   "metadata": {},
   "outputs": [
    {
     "data": {
      "image/png": "[encoded data removed]",
      "text/plain": [
       "<Figure size 648x432 with 1 Axes>"
      ]
     },
     "metadata": {
      "needs_background": "light"
     },
     "output_type": "display_data"
    }
   ],
   "source": [
    "fig,ax = plt.subplots(1,1,figsize=(9,6))\n",
    "ax.set_title(\"model loss(alpha={})\".format(lr2.lr))\n",
    "ax.plot(np.arange(len(lr2.loss)),lr2.loss,label=\"train_loss\",linewidth=5)\n",
    "ax.plot(np.arange(len(lr2.val_loss)),lr2.val_loss,label=\"val_loss\",linewidth=5)\n",
    "ax.legend()\n",
    "plt.show()"
   ]
  },
  {
   "cell_type": "markdown",
   "metadata": {},
   "source": [
    "ほぼ同じグラフを示しているが平均2乗誤差はバイアス項なしだと数値がやや高くなってしまう。"
   ]
  },
  {
   "cell_type": "code",
   "execution_count": 42,
   "metadata": {},
   "outputs": [
    {
     "name": "stdout",
     "output_type": "stream",
     "text": [
      "特徴量YearBuiltで検証\n",
      "平均2乗誤差（バイアス項あり）:0.19297368159643535\n",
      "平均2乗誤差（バイアス項なし）:0.21552039154113237\n",
      "\n",
      "特徴量YearRemodAddで検証\n",
      "平均2乗誤差（バイアス項あり）:0.19242351433492297\n",
      "平均2乗誤差（バイアス項なし）:0.21463270680795823\n",
      "\n",
      "特徴量TotRmsAbvGrdで検証\n",
      "平均2乗誤差（バイアス項あり）:54.57282545413062\n",
      "平均2乗誤差（バイアス項なし）:74.10714234731812\n",
      "\n",
      "特徴量OverallQualで検証\n",
      "平均2乗誤差（バイアス項あり）:56.733572719407846\n",
      "平均2乗誤差（バイアス項なし）:76.91847367560985\n",
      "\n",
      "特徴量GrLivAreaで検証\n",
      "平均2乗誤差（バイアス項あり）:0.47885036086385524\n",
      "平均2乗誤差（バイアス項なし）:0.5773639072127514\n",
      "\n"
     ]
    },
    {
     "data": {
      "text/html": [
       "<div>\n",
       "<style scoped>\n",
       "    .dataframe tbody tr th:only-of-type {\n",
       "        vertical-align: middle;\n",
       "    }\n",
       "\n",
       "    .dataframe tbody tr th {\n",
       "        vertical-align: top;\n",
       "    }\n",
       "\n",
       "    .dataframe thead th {\n",
       "        text-align: right;\n",
       "    }\n",
       "</style>\n",
       "<table border=\"1\" class=\"dataframe\">\n",
       "  <thead>\n",
       "    <tr style=\"text-align: right;\">\n",
       "      <th></th>\n",
       "      <th>YearBuilt</th>\n",
       "      <th>YearRemodAdd</th>\n",
       "      <th>TotRmsAbvGrd</th>\n",
       "      <th>OverallQual</th>\n",
       "      <th>GrLivArea</th>\n",
       "    </tr>\n",
       "  </thead>\n",
       "  <tbody>\n",
       "    <tr>\n",
       "      <th>バイアス項あり</th>\n",
       "      <td>0.192974</td>\n",
       "      <td>0.192424</td>\n",
       "      <td>54.572825</td>\n",
       "      <td>56.733573</td>\n",
       "      <td>0.478850</td>\n",
       "    </tr>\n",
       "    <tr>\n",
       "      <th>バイアス項なし</th>\n",
       "      <td>0.215520</td>\n",
       "      <td>0.214633</td>\n",
       "      <td>74.107142</td>\n",
       "      <td>76.918474</td>\n",
       "      <td>0.577364</td>\n",
       "    </tr>\n",
       "    <tr>\n",
       "      <th>バイアス項なし-バイアス項あり</th>\n",
       "      <td>0.022547</td>\n",
       "      <td>0.022209</td>\n",
       "      <td>19.534317</td>\n",
       "      <td>20.184901</td>\n",
       "      <td>0.098514</td>\n",
       "    </tr>\n",
       "  </tbody>\n",
       "</table>\n",
       "</div>"
      ],
      "text/plain": [
       "                 YearBuilt  YearRemodAdd  TotRmsAbvGrd  OverallQual  GrLivArea\n",
       "バイアス項あり           0.192974      0.192424     54.572825    56.733573   0.478850\n",
       "バイアス項なし           0.215520      0.214633     74.107142    76.918474   0.577364\n",
       "バイアス項なし-バイアス項あり   0.022547      0.022209     19.534317    20.184901   0.098514"
      ]
     },
     "metadata": {},
     "output_type": "display_data"
    }
   ],
   "source": [
    "#特徴量を変えて検証\n",
    "feature = [\"YearBuilt\",\"YearRemodAdd\",\"TotRmsAbvGrd\",\"OverallQual\",\"GrLivArea\"]\n",
    "error = np.empty(15).reshape(3,5)\n",
    "for i in range(5):\n",
    "    df_x2 = df[feature[i]].apply(np.log)\n",
    "    df_y2 = df.SalePrice.apply(np.log)\n",
    "    x_train,x_test,y_train,y_test = train_test_split(np.array(df_x2),np.array(df_y2),train_size = 0.8,random_state=1)\n",
    "    lr_bias = ScratchLinearRegression(verbose=False)\n",
    "    lr_no_bias = ScratchLinearRegression(no_bias=True,verbose=False)\n",
    "    lr_bias.fit(x_train,y_train,x_test,y_test)\n",
    "    lr_no_bias.fit(x_train,y_train,x_test,y_test)\n",
    "    pred_bias = lr_bias.predict(x_test)\n",
    "    pred_no_bias = lr_no_bias.predict(x_test)\n",
    "    print(\"特徴量{}で検証\".format(feature[i]))\n",
    "    print(\"平均2乗誤差（バイアス項あり）:{}\".format(MSE(pred_bias,y_test)))\n",
    "    print(\"平均2乗誤差（バイアス項なし）:{}\\n\".format(MSE(pred_no_bias,y_test)))\n",
    "    error[0,i] = MSE(pred_bias,y_test)\n",
    "    error[1,i] = MSE(pred_no_bias,y_test)\n",
    "    error[2,i] = error[1,i] - error[0,i]\n",
    "error_data = pd.DataFrame(error,index = [\"バイアス項あり\",\"バイアス項なし\",\"バイアス項なし-バイアス項あり\"],\\\n",
    "                          columns=feature)\n",
    "display(error_data)\n"
   ]
  },
  {
   "cell_type": "code",
   "execution_count": 45,
   "metadata": {},
   "outputs": [
    {
     "name": "stdout",
     "output_type": "stream",
     "text": [
      "特徴量1つで検証\n",
      "平均2乗誤差（バイアス項あり）:0.19297368159643535\n",
      "平均2乗誤差（バイアス項なし）:0.21552039154113237\n",
      "\n",
      "特徴量2つで検証\n",
      "平均2乗誤差（バイアス項あり）:0.17730262535794644\n",
      "平均2乗誤差（バイアス項なし）:0.1770466231893288\n",
      "\n",
      "特徴量3つで検証\n",
      "平均2乗誤差（バイアス項あり）:0.22795858950818657\n",
      "平均2乗誤差（バイアス項なし）:0.22965983336528772\n",
      "\n",
      "特徴量4つで検証\n",
      "平均2乗誤差（バイアス項あり）:0.3224436413425831\n",
      "平均2乗誤差（バイアス項なし）:0.3275902196263335\n",
      "\n",
      "特徴量5つで検証\n",
      "平均2乗誤差（バイアス項あり）:0.39907164504286086\n",
      "平均2乗誤差（バイアス項なし）:0.4144673283050833\n",
      "\n"
     ]
    },
    {
     "data": {
      "text/html": [
       "<div>\n",
       "<style scoped>\n",
       "    .dataframe tbody tr th:only-of-type {\n",
       "        vertical-align: middle;\n",
       "    }\n",
       "\n",
       "    .dataframe tbody tr th {\n",
       "        vertical-align: top;\n",
       "    }\n",
       "\n",
       "    .dataframe thead th {\n",
       "        text-align: right;\n",
       "    }\n",
       "</style>\n",
       "<table border=\"1\" class=\"dataframe\">\n",
       "  <thead>\n",
       "    <tr style=\"text-align: right;\">\n",
       "      <th></th>\n",
       "      <th>1</th>\n",
       "      <th>2</th>\n",
       "      <th>3</th>\n",
       "      <th>4</th>\n",
       "      <th>5</th>\n",
       "    </tr>\n",
       "  </thead>\n",
       "  <tbody>\n",
       "    <tr>\n",
       "      <th>バイアス項あり</th>\n",
       "      <td>0.192974</td>\n",
       "      <td>0.177303</td>\n",
       "      <td>0.227959</td>\n",
       "      <td>0.322444</td>\n",
       "      <td>0.399072</td>\n",
       "    </tr>\n",
       "    <tr>\n",
       "      <th>バイアス項なし</th>\n",
       "      <td>0.215520</td>\n",
       "      <td>0.177047</td>\n",
       "      <td>0.229660</td>\n",
       "      <td>0.327590</td>\n",
       "      <td>0.414467</td>\n",
       "    </tr>\n",
       "    <tr>\n",
       "      <th>バイアス項なし-バイアス項あり</th>\n",
       "      <td>0.022547</td>\n",
       "      <td>-0.000256</td>\n",
       "      <td>0.001701</td>\n",
       "      <td>0.005147</td>\n",
       "      <td>0.015396</td>\n",
       "    </tr>\n",
       "  </tbody>\n",
       "</table>\n",
       "</div>"
      ],
      "text/plain": [
       "                        1         2         3         4         5\n",
       "バイアス項あり          0.192974  0.177303  0.227959  0.322444  0.399072\n",
       "バイアス項なし          0.215520  0.177047  0.229660  0.327590  0.414467\n",
       "バイアス項なし-バイアス項あり  0.022547 -0.000256  0.001701  0.005147  0.015396"
      ]
     },
     "metadata": {},
     "output_type": "display_data"
    }
   ],
   "source": [
    "#特徴量の数を変えて検証\n",
    "feature = [\"YearBuilt\",\"YearRemodAdd\",\"TotRmsAbvGrd\",\"OverallQual\",\"GrLivArea\"]\n",
    "error = np.empty(15).reshape(3,5)\n",
    "for i in range(5):\n",
    "    df_x2 = df[feature[:i+1]].apply(np.log)\n",
    "    df_y2 = df.SalePrice.apply(np.log)\n",
    "    x_train,x_test,y_train,y_test = train_test_split(np.array(df_x2),np.array(df_y2),train_size = 0.8,random_state=1)\n",
    "    lr_bias = ScratchLinearRegression(verbose=False)\n",
    "    lr_no_bias = ScratchLinearRegression(no_bias=True,verbose=False)\n",
    "    lr_bias.fit(x_train,y_train,x_test,y_test)\n",
    "    lr_no_bias.fit(x_train,y_train,x_test,y_test)\n",
    "    pred_bias = lr_bias.predict(x_test)\n",
    "    pred_no_bias = lr_no_bias.predict(x_test)\n",
    "    print(\"特徴量{}つで検証\".format(i+1))\n",
    "    print(\"平均2乗誤差（バイアス項あり）:{}\".format(MSE(pred_bias,y_test)))\n",
    "    print(\"平均2乗誤差（バイアス項なし）:{}\\n\".format(MSE(pred_no_bias,y_test)))\n",
    "    error[0,i] = MSE(pred_bias,y_test)\n",
    "    error[1,i] = MSE(pred_no_bias,y_test)\n",
    "    error[2,i] = error[1,i] - error[0,i]\n",
    "error_data = pd.DataFrame(error,index = [\"バイアス項あり\",\"バイアス項なし\",\"バイアス項なし-バイアス項あり\"],\\\n",
    "                          columns=[1,2,3,4,5])\n",
    "display(error_data)\n"
   ]
  },
  {
   "cell_type": "markdown",
   "metadata": {},
   "source": [
    "># [考察]\n",
    "バイアス項が無い場合、バイアス項の分を他のθを変えることで残差を減らそうとするためθの各値が適切な値から遠のいてしまい、モデルの予測精度が下がる可能性がある。特徴量を変えながら平均2乗誤差を比べてみると、どの場合もバイアス項ありの方が精度が高い。  \n",
    "特徴量によっては学習率などを変更しないと平均2乗誤差がかなり大きくなってしまうため複数の特徴量を用いる方が誤差は小さくなると感じたので、２つ目の検証では特徴量の数を変えながら指標値を比較した。全体的に平均2乗誤差が小さいため差はかなり小さかったがほとんどの場合はバイアス項ありの方が精度が高い結果が出た。"
   ]
  },
  {
   "cell_type": "markdown",
   "metadata": {},
   "source": [
    "># 【問題9】（アドバンス課題）特徴量の多次元化\n",
    "特徴量の二乗や三乗を入力に利用すると学習結果がどう変化するか検証してください。"
   ]
  },
  {
   "cell_type": "code",
   "execution_count": 46,
   "metadata": {},
   "outputs": [
    {
     "name": "stdout",
     "output_type": "stream",
     "text": [
      "特徴量を分析した平均２乗誤差:0.24084845167707664\n",
      "特徴量の２乗を分析した平均２乗誤差:0.9804099100241516\n",
      "特徴量の3乗を分析した平均２乗誤差:2.2239677646743963\n"
     ]
    }
   ],
   "source": [
    "df_y = df.SalePrice\n",
    "first_df = df[features_list].apply(np.log)\n",
    "df_y_f = df_y.apply(np.log)\n",
    "square_df = (df[features_list]**2).apply(np.log)\n",
    "df_y_s = (df_y**2).apply(np.log)\n",
    "third_df = (df[features_list]**3).apply(np.log)\n",
    "df_y_t = (df_y**3).apply(np.log)\n",
    "x_train1,x_test1,y_train1,y_test1 = train_test_split(np.array(first_df),np.array(df_y_f),train_size = 0.8,random_state=1)\n",
    "x_train2,x_test2,y_train2,y_test2 = train_test_split(np.array(square_df),np.array(df_y_s),train_size = 0.8,random_state=1)\n",
    "x_train3,x_test3,y_train3,y_test3 = train_test_split(np.array(third_df),np.array(df_y_t),train_size = 0.8,random_state=1)\n",
    "lr_f = ScratchLinearRegression(verbose=False)\n",
    "lr_s = ScratchLinearRegression(verbose=False)\n",
    "lr_t = ScratchLinearRegression(verbose=False)\n",
    "lr_f.fit(x_train1,y_train1)\n",
    "lr_s.fit(x_train2,y_train2)\n",
    "lr_t.fit(x_train3,y_train3)\n",
    "pred_f = lr_f.predict(x_test1)\n",
    "pred_s = lr_s.predict(x_test2)\n",
    "pred_t = lr_t.predict(x_test3)\n",
    "print(\"特徴量を分析した平均２乗誤差:{}\".format(MSE(pred_f,y_test1)))\n",
    "print(\"特徴量の２乗を分析した平均２乗誤差:{}\".format(MSE(pred_s,y_test2)))\n",
    "print(\"特徴量の3乗を分析した平均２乗誤差:{}\".format(MSE(pred_t,y_test3)))"
   ]
  },
  {
   "cell_type": "markdown",
   "metadata": {},
   "source": [
    "２乗、３乗していくと値が大きくなるためデータにばらつきが出て精度が下がっていくことがわかる。"
   ]
  },
  {
   "cell_type": "markdown",
   "metadata": {},
   "source": [
    "># 【問題10】（アドバンス課題）更新式の導出\n",
    "最急降下法の更新式は以下でした。この式が導出される過程を説明してください。\n",
    "\n",
    ">$\n",
    "\\theta_j := \\theta_j - \\alpha \\frac{1}{m} \\sum_{i=1}^{m}[(h_\\theta(x^{(i)}) - y^{(i)} )x_{j}^{(i)}]\n",
    "$\n",
    "\n",
    ">以下の式から説明をはじめることができます。\n",
    "\n",
    ">$\n",
    "\\theta_j := \\theta_j - \\frac{\\partial}{\\partial \\theta_j}J(\\theta) \\\\\n",
    "$\n",
    "\n",
    ">目的関数（損失関数） $J(\\theta)$ は次の式です。\n",
    "\n",
    ">$\n",
    "J(\\theta)=  \\frac{1 }{ 2m}  \\sum_{i=1}^{m} (h_\\theta(x^{(i)})-y^{(i)})^2.\n",
    "$"
   ]
  },
  {
   "cell_type": "markdown",
   "metadata": {},
   "source": [
    "$\n",
    "\\theta_j \n",
    "$\n",
    "\n",
    "$\n",
    ":= \\theta_j - \\frac{\\partial}{\\partial \\theta_j}J(\\theta) \\\\\n",
    "$\n",
    "\n",
    "$\n",
    "= \\theta_j - \\frac{\\partial}{\\partial \\theta_j} * \\frac{1 }{ 2m}  \\sum_{i=1}^{m} (h_\\theta(x^{(i)})-y^{(i)})^2\n",
    "$\n",
    "\n",
    "$\n",
    "= \\theta_j - \\frac{1 }{ 2m}\\sum_{i=1}^{m}\\frac{\\partial}{\\partial \\theta_j}(h_\\theta(x^{(i)})-y^{(i)})^2\n",
    "$\n",
    "\n",
    "$\n",
    "=\\theta_j - \\frac{1 }{ m}\\sum_{i=1}^{m}(h_\\theta(x^{(i)})-y^{(i)})\\frac{\\partial (h_\\theta(x^{(i)})}{\\partial \\theta_j}\n",
    "$\n",
    "\n",
    "$\n",
    "=\\theta_j - \\frac{1 }{ m}\\sum_{i=1}^{m}(h_\\theta(x^{(i)})-y^{(i)})\\frac{\\partial (h_\\theta(x^{(i)})}{\\partial \\theta_j}\n",
    "$\n",
    "\n",
    "$\n",
    "=\\theta_j - \\alpha\\frac{1 }{ m}\\sum_{i=1}^{m}(h_\\theta(x^{(i)})-y^{(i)})x_{j}^{(i)}\n",
    "$"
   ]
  },
  {
   "cell_type": "markdown",
   "metadata": {},
   "source": [
    "># 【問題11】（アドバンス課題）局所最適解の問題\n",
    "最急降下法には一般的に局所最適解の問題があります。しかし、線形回帰では学習を続ければ必ず最適解を求めることができます。それはなぜか数式やグラフを用いて説明してください。"
   ]
  },
  {
   "cell_type": "markdown",
   "metadata": {},
   "source": [
    ">線形回帰の仮定関数は以下の式で定義される。\n",
    "\n",
    ">$\n",
    "h_\\theta(x) = \\theta_0 x_0 + \\theta_1 x_1 + … + \\theta_j x_j + … +\\theta_n x_n. (x_0 = 1)\n",
    "$ —①  \n",
    "\n",
    ">仮定関数①はn次元の変数$\\theta_j$の関数であるが、$\\theta$の次数はすべて１である。  \n",
    "また、目的関数である$J(\\theta)$は仮定関数①の二乗の関数である。\n",
    "\n",
    ">$\n",
    "J(\\theta)= \\frac{1 }{ 2m} \\sum_{i=1}^{m} (h_\\theta(x^{(i)})-y^{(i)})^2.\n",
    "$　—②\n",
    "\n",
    ">②は$\\theta$の２次方程式となるため、各$\\theta$における極値は１点しか持たない。  \n",
    "そのため、すべてのθにおいて偏微分を行うことで、$J(\\theta)$が最小となる極小点が必ず１つ求まる\n",
    "つまり、局所的最適解に陥ることはない。"
   ]
  },
  {
   "cell_type": "markdown",
   "metadata": {},
   "source": [
    "># おまけ\n",
    "イテレーション数を大きくするのとcross validationを用いて、正確にはどの程度の精度が出るのかを検証する"
   ]
  },
  {
   "cell_type": "code",
   "execution_count": 72,
   "metadata": {},
   "outputs": [
    {
     "name": "stdout",
     "output_type": "stream",
     "text": [
      "4回の平均\n",
      "平均２乗誤差:0.22329778793284416\n",
      "CPU times: user 1min 47s, sys: 1.35 s, total: 1min 49s\n",
      "Wall time: 1min 50s\n"
     ]
    }
   ],
   "source": [
    "%%time\n",
    "K = 4\n",
    "value = 0\n",
    "kf_price = KFold(n_splits=K,random_state=1)\n",
    "df_x = df[features_list].apply(np.log)\n",
    "df_y = df.SalePrice.apply(np.log)\n",
    "\n",
    "for train_index,test_index in kf_price.split(df):\n",
    "    x_train,x_test = np.array(df_x.iloc[train_index]),np.array(df_x.iloc[test_index])\n",
    "    y_train,y_test = np.array(df_y.iloc[train_index]),np.array(df_y.iloc[test_index])\n",
    "    #線形回帰\n",
    "    lr = ScratchLinearRegression(num_iter=10000,verbose=False,lr=1e-5)\n",
    "    lr.fit(x_train,y_train)\n",
    "    #予測\n",
    "    y_pred = lr.predict(x_test)\n",
    "    value += MSE(y_pred,y_test)\n",
    "print(\"{}回の平均\".format(K))\n",
    "print(\"平均２乗誤差:{}\".format(value/K))"
   ]
  },
  {
   "cell_type": "code",
   "execution_count": 69,
   "metadata": {},
   "outputs": [
    {
     "name": "stdout",
     "output_type": "stream",
     "text": [
      "4回の平均\n",
      "平均２乗誤差:0.04575562966944597\n",
      "CPU times: user 26 ms, sys: 2.64 ms, total: 28.6 ms\n",
      "Wall time: 8.56 ms\n"
     ]
    }
   ],
   "source": [
    "%%time\n",
    "K = 4\n",
    "value = 0\n",
    "kf_price = KFold(n_splits=K,random_state=1)\n",
    "df_x = df[features_list].apply(np.log)\n",
    "df_y = df.SalePrice.apply(np.log)\n",
    "\n",
    "for train_index,test_index in kf_price.split(df):\n",
    "    x_train,x_test = np.array(df_x.iloc[train_index]),np.array(df_x.iloc[test_index])\n",
    "    y_train,y_test = np.array(df_y.iloc[train_index]),np.array(df_y.iloc[test_index])\n",
    "    #線形回帰\n",
    "    lr = LinearRegression()\n",
    "    lr.fit(x_train,y_train)\n",
    "    #予測\n",
    "    y_pred = lr.predict(x_test)\n",
    "    value += MSE(y_pred,y_test)\n",
    "print(\"{}回の平均\".format(K))\n",
    "print(\"平均２乗誤差:{}\".format(value/K))"
   ]
  },
  {
   "cell_type": "markdown",
   "metadata": {},
   "source": [
    "誤差を評価するときはどちらも今回自分で実装したMSEを用いた。  \n",
    "結果を比べてみると速度の差は明らかな上に、平均２乗誤差もスクラッチ実装した方は本家にかなり劣っていた。イテレーション数や学習率を変えても本家に追いつくことはできなかった。"
   ]
  },
  {
   "cell_type": "code",
   "execution_count": null,
   "metadata": {},
   "outputs": [],
   "source": []
  }
 ],
 "metadata": {
  "kernelspec": {
   "display_name": "Python 3",
   "language": "python",
   "name": "python3"
  },
  "language_info": {
   "codemirror_mode": {
    "name": "ipython",
    "version": 3
   },
   "file_extension": ".py",
   "mimetype": "text/x-python",
   "name": "python",
   "nbconvert_exporter": "python",
   "pygments_lexer": "ipython3",
   "version": "3.7.2"
  }
 },
 "nbformat": 4,
 "nbformat_minor": 2
}
