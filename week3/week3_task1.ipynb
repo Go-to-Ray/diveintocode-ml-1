{
 "cells": [
  {
   "cell_type": "markdown",
   "metadata": {},
   "source": [
    "# 【問題1】データの取得\n",
    "以下のドキュメントを参考にしながら、irisデータセット読み込みましょう。  \n",
    "データが読み込めたら、説明変数を下のようなPandasのDataFrame型変数Xに格納してください。  \n",
    "目的変数も同様にyに格納してください。"
   ]
  },
  {
   "cell_type": "code",
   "execution_count": 111,
   "metadata": {
    "collapsed": true
   },
   "outputs": [
    {
     "name": "stdout",
     "output_type": "stream",
     "text": [
      "     sepal_length  sepal_width  petal_length  petal_width\n",
      "0             5.1          3.5           1.4          0.2\n",
      "1             4.9          3.0           1.4          0.2\n",
      "2             4.7          3.2           1.3          0.2\n",
      "3             4.6          3.1           1.5          0.2\n",
      "4             5.0          3.6           1.4          0.2\n",
      "5             5.4          3.9           1.7          0.4\n",
      "6             4.6          3.4           1.4          0.3\n",
      "7             5.0          3.4           1.5          0.2\n",
      "8             4.4          2.9           1.4          0.2\n",
      "9             4.9          3.1           1.5          0.1\n",
      "10            5.4          3.7           1.5          0.2\n",
      "11            4.8          3.4           1.6          0.2\n",
      "12            4.8          3.0           1.4          0.1\n",
      "13            4.3          3.0           1.1          0.1\n",
      "14            5.8          4.0           1.2          0.2\n",
      "15            5.7          4.4           1.5          0.4\n",
      "16            5.4          3.9           1.3          0.4\n",
      "17            5.1          3.5           1.4          0.3\n",
      "18            5.7          3.8           1.7          0.3\n",
      "19            5.1          3.8           1.5          0.3\n",
      "20            5.4          3.4           1.7          0.2\n",
      "21            5.1          3.7           1.5          0.4\n",
      "22            4.6          3.6           1.0          0.2\n",
      "23            5.1          3.3           1.7          0.5\n",
      "24            4.8          3.4           1.9          0.2\n",
      "25            5.0          3.0           1.6          0.2\n",
      "26            5.0          3.4           1.6          0.4\n",
      "27            5.2          3.5           1.5          0.2\n",
      "28            5.2          3.4           1.4          0.2\n",
      "29            4.7          3.2           1.6          0.2\n",
      "..            ...          ...           ...          ...\n",
      "120           6.9          3.2           5.7          2.3\n",
      "121           5.6          2.8           4.9          2.0\n",
      "122           7.7          2.8           6.7          2.0\n",
      "123           6.3          2.7           4.9          1.8\n",
      "124           6.7          3.3           5.7          2.1\n",
      "125           7.2          3.2           6.0          1.8\n",
      "126           6.2          2.8           4.8          1.8\n",
      "127           6.1          3.0           4.9          1.8\n",
      "128           6.4          2.8           5.6          2.1\n",
      "129           7.2          3.0           5.8          1.6\n",
      "130           7.4          2.8           6.1          1.9\n",
      "131           7.9          3.8           6.4          2.0\n",
      "132           6.4          2.8           5.6          2.2\n",
      "133           6.3          2.8           5.1          1.5\n",
      "134           6.1          2.6           5.6          1.4\n",
      "135           7.7          3.0           6.1          2.3\n",
      "136           6.3          3.4           5.6          2.4\n",
      "137           6.4          3.1           5.5          1.8\n",
      "138           6.0          3.0           4.8          1.8\n",
      "139           6.9          3.1           5.4          2.1\n",
      "140           6.7          3.1           5.6          2.4\n",
      "141           6.9          3.1           5.1          2.3\n",
      "142           5.8          2.7           5.1          1.9\n",
      "143           6.8          3.2           5.9          2.3\n",
      "144           6.7          3.3           5.7          2.5\n",
      "145           6.7          3.0           5.2          2.3\n",
      "146           6.3          2.5           5.0          1.9\n",
      "147           6.5          3.0           5.2          2.0\n",
      "148           6.2          3.4           5.4          2.3\n",
      "149           5.9          3.0           5.1          1.8\n",
      "\n",
      "[150 rows x 4 columns]      Species\n",
      "0          0\n",
      "1          0\n",
      "2          0\n",
      "3          0\n",
      "4          0\n",
      "5          0\n",
      "6          0\n",
      "7          0\n",
      "8          0\n",
      "9          0\n",
      "10         0\n",
      "11         0\n",
      "12         0\n",
      "13         0\n",
      "14         0\n",
      "15         0\n",
      "16         0\n",
      "17         0\n",
      "18         0\n",
      "19         0\n",
      "20         0\n",
      "21         0\n",
      "22         0\n",
      "23         0\n",
      "24         0\n",
      "25         0\n",
      "26         0\n",
      "27         0\n",
      "28         0\n",
      "29         0\n",
      "..       ...\n",
      "120        2\n",
      "121        2\n",
      "122        2\n",
      "123        2\n",
      "124        2\n",
      "125        2\n",
      "126        2\n",
      "127        2\n",
      "128        2\n",
      "129        2\n",
      "130        2\n",
      "131        2\n",
      "132        2\n",
      "133        2\n",
      "134        2\n",
      "135        2\n",
      "136        2\n",
      "137        2\n",
      "138        2\n",
      "139        2\n",
      "140        2\n",
      "141        2\n",
      "142        2\n",
      "143        2\n",
      "144        2\n",
      "145        2\n",
      "146        2\n",
      "147        2\n",
      "148        2\n",
      "149        2\n",
      "\n",
      "[150 rows x 1 columns]\n"
     ]
    }
   ],
   "source": [
    "import pandas as pd\n",
    "from sklearn.datasets import load_iris\n",
    "iris = load_iris()\n",
    "X = pd.DataFrame(iris.data,columns = [\"sepal_length\",\"sepal_width\",\"petal_length\",\"petal_width\"])\n",
    "y = pd.DataFrame(iris.target,columns  = [\"Species\"])\n",
    "print(X,y)"
   ]
  },
  {
   "cell_type": "markdown",
   "metadata": {},
   "source": [
    "# 【問題2】データの結合\n",
    "問題1で準備したX,yを結合させたDataFrame型変数dfを作成してください。結合することで扱いやすくなります。これ以降はこのdfを使っていきます。"
   ]
  },
  {
   "cell_type": "code",
   "execution_count": 112,
   "metadata": {
    "collapsed": true
   },
   "outputs": [
    {
     "name": "stdout",
     "output_type": "stream",
     "text": [
      "     sepal_length  sepal_width  petal_length  petal_width  Species\n",
      "0             5.1          3.5           1.4          0.2        0\n",
      "1             4.9          3.0           1.4          0.2        0\n",
      "2             4.7          3.2           1.3          0.2        0\n",
      "3             4.6          3.1           1.5          0.2        0\n",
      "4             5.0          3.6           1.4          0.2        0\n",
      "5             5.4          3.9           1.7          0.4        0\n",
      "6             4.6          3.4           1.4          0.3        0\n",
      "7             5.0          3.4           1.5          0.2        0\n",
      "8             4.4          2.9           1.4          0.2        0\n",
      "9             4.9          3.1           1.5          0.1        0\n",
      "10            5.4          3.7           1.5          0.2        0\n",
      "11            4.8          3.4           1.6          0.2        0\n",
      "12            4.8          3.0           1.4          0.1        0\n",
      "13            4.3          3.0           1.1          0.1        0\n",
      "14            5.8          4.0           1.2          0.2        0\n",
      "15            5.7          4.4           1.5          0.4        0\n",
      "16            5.4          3.9           1.3          0.4        0\n",
      "17            5.1          3.5           1.4          0.3        0\n",
      "18            5.7          3.8           1.7          0.3        0\n",
      "19            5.1          3.8           1.5          0.3        0\n",
      "20            5.4          3.4           1.7          0.2        0\n",
      "21            5.1          3.7           1.5          0.4        0\n",
      "22            4.6          3.6           1.0          0.2        0\n",
      "23            5.1          3.3           1.7          0.5        0\n",
      "24            4.8          3.4           1.9          0.2        0\n",
      "25            5.0          3.0           1.6          0.2        0\n",
      "26            5.0          3.4           1.6          0.4        0\n",
      "27            5.2          3.5           1.5          0.2        0\n",
      "28            5.2          3.4           1.4          0.2        0\n",
      "29            4.7          3.2           1.6          0.2        0\n",
      "..            ...          ...           ...          ...      ...\n",
      "120           6.9          3.2           5.7          2.3        2\n",
      "121           5.6          2.8           4.9          2.0        2\n",
      "122           7.7          2.8           6.7          2.0        2\n",
      "123           6.3          2.7           4.9          1.8        2\n",
      "124           6.7          3.3           5.7          2.1        2\n",
      "125           7.2          3.2           6.0          1.8        2\n",
      "126           6.2          2.8           4.8          1.8        2\n",
      "127           6.1          3.0           4.9          1.8        2\n",
      "128           6.4          2.8           5.6          2.1        2\n",
      "129           7.2          3.0           5.8          1.6        2\n",
      "130           7.4          2.8           6.1          1.9        2\n",
      "131           7.9          3.8           6.4          2.0        2\n",
      "132           6.4          2.8           5.6          2.2        2\n",
      "133           6.3          2.8           5.1          1.5        2\n",
      "134           6.1          2.6           5.6          1.4        2\n",
      "135           7.7          3.0           6.1          2.3        2\n",
      "136           6.3          3.4           5.6          2.4        2\n",
      "137           6.4          3.1           5.5          1.8        2\n",
      "138           6.0          3.0           4.8          1.8        2\n",
      "139           6.9          3.1           5.4          2.1        2\n",
      "140           6.7          3.1           5.6          2.4        2\n",
      "141           6.9          3.1           5.1          2.3        2\n",
      "142           5.8          2.7           5.1          1.9        2\n",
      "143           6.8          3.2           5.9          2.3        2\n",
      "144           6.7          3.3           5.7          2.5        2\n",
      "145           6.7          3.0           5.2          2.3        2\n",
      "146           6.3          2.5           5.0          1.9        2\n",
      "147           6.5          3.0           5.2          2.0        2\n",
      "148           6.2          3.4           5.4          2.3        2\n",
      "149           5.9          3.0           5.1          1.8        2\n",
      "\n",
      "[150 rows x 5 columns]\n"
     ]
    }
   ],
   "source": [
    "df = pd.concat([X,y],axis=1)\n",
    "print(df)"
   ]
  },
  {
   "cell_type": "markdown",
   "metadata": {},
   "source": [
    "# 【問題3】データの確認\n",
    "今回扱うデータがどのようなものなのかを確認します。以下の4つを行ってください。\n",
    "\n",
    "\n",
    "・先頭から4番目までのサンプルを表示させ、各特徴量がどういったものかを見る。（数値データか文字データかなど）  \n",
    "・ラベルごとのサンプル数の合計を出力する。  \n",
    "・特徴量に欠損値があるかを確認する。  \n",
    "・特徴量の平均値と標準偏差、四分位数を一度に表示させる。"
   ]
  },
  {
   "cell_type": "code",
   "execution_count": 113,
   "metadata": {},
   "outputs": [
    {
     "name": "stdout",
     "output_type": "stream",
     "text": [
      "先頭から４番目までのサンプル:\n"
     ]
    },
    {
     "data": {
      "text/html": [
       "<div>\n",
       "<style scoped>\n",
       "    .dataframe tbody tr th:only-of-type {\n",
       "        vertical-align: middle;\n",
       "    }\n",
       "\n",
       "    .dataframe tbody tr th {\n",
       "        vertical-align: top;\n",
       "    }\n",
       "\n",
       "    .dataframe thead th {\n",
       "        text-align: right;\n",
       "    }\n",
       "</style>\n",
       "<table border=\"1\" class=\"dataframe\">\n",
       "  <thead>\n",
       "    <tr style=\"text-align: right;\">\n",
       "      <th></th>\n",
       "      <th>sepal_length</th>\n",
       "      <th>sepal_width</th>\n",
       "      <th>petal_length</th>\n",
       "      <th>petal_width</th>\n",
       "      <th>Species</th>\n",
       "    </tr>\n",
       "  </thead>\n",
       "  <tbody>\n",
       "    <tr>\n",
       "      <th>0</th>\n",
       "      <td>5.1</td>\n",
       "      <td>3.5</td>\n",
       "      <td>1.4</td>\n",
       "      <td>0.2</td>\n",
       "      <td>0</td>\n",
       "    </tr>\n",
       "    <tr>\n",
       "      <th>1</th>\n",
       "      <td>4.9</td>\n",
       "      <td>3.0</td>\n",
       "      <td>1.4</td>\n",
       "      <td>0.2</td>\n",
       "      <td>0</td>\n",
       "    </tr>\n",
       "    <tr>\n",
       "      <th>2</th>\n",
       "      <td>4.7</td>\n",
       "      <td>3.2</td>\n",
       "      <td>1.3</td>\n",
       "      <td>0.2</td>\n",
       "      <td>0</td>\n",
       "    </tr>\n",
       "    <tr>\n",
       "      <th>3</th>\n",
       "      <td>4.6</td>\n",
       "      <td>3.1</td>\n",
       "      <td>1.5</td>\n",
       "      <td>0.2</td>\n",
       "      <td>0</td>\n",
       "    </tr>\n",
       "  </tbody>\n",
       "</table>\n",
       "</div>"
      ],
      "text/plain": [
       "   sepal_length  sepal_width  petal_length  petal_width  Species\n",
       "0           5.1          3.5           1.4          0.2        0\n",
       "1           4.9          3.0           1.4          0.2        0\n",
       "2           4.7          3.2           1.3          0.2        0\n",
       "3           4.6          3.1           1.5          0.2        0"
      ]
     },
     "execution_count": 113,
     "metadata": {},
     "output_type": "execute_result"
    }
   ],
   "source": [
    "\"\"\"\n",
    "P110.2\n",
    "loc属性:明示的なインデックスを使ったインデックスおよびスライスが可能になる\n",
    "iloc属性:間接的なPythonスタイルのインデックスを使ったインデックスとスライスを可能にする \n",
    "\"\"\"\n",
    "print(\"先頭から４番目までのサンプル:\")\n",
    "df.iloc[:4,:]"
   ]
  },
  {
   "cell_type": "code",
   "execution_count": 114,
   "metadata": {},
   "outputs": [
    {
     "name": "stdout",
     "output_type": "stream",
     "text": [
      "ラベル０のサンプル数：50\n",
      "ラベル1のサンプル数：50\n",
      "ラベル2のサンプル数：50\n"
     ]
    }
   ],
   "source": [
    "#マスクを利用\n",
    "print(\"ラベル０のサンプル数：{}\".format(len(df[df.Species == 0])))\n",
    "print(\"ラベル1のサンプル数：{}\".format(len(df[df.Species == 1])))\n",
    "print(\"ラベル2のサンプル数：{}\".format(len(df[df.Species == 2])))"
   ]
  },
  {
   "cell_type": "code",
   "execution_count": 115,
   "metadata": {},
   "outputs": [
    {
     "name": "stdout",
     "output_type": "stream",
     "text": [
      "dfの欠損値の合計は0個\n"
     ]
    }
   ],
   "source": [
    "print(\"dfの欠損値の合計は{}個\".format(df.isnull().sum().sum()))"
   ]
  },
  {
   "cell_type": "code",
   "execution_count": 199,
   "metadata": {},
   "outputs": [
    {
     "name": "stdout",
     "output_type": "stream",
     "text": [
      "mean:平均　std:標準偏差 25%:第一四分位数　５０％:第二四分位数　７５％:第三四分位数\n"
     ]
    },
    {
     "data": {
      "text/html": [
       "<div>\n",
       "<style scoped>\n",
       "    .dataframe tbody tr th:only-of-type {\n",
       "        vertical-align: middle;\n",
       "    }\n",
       "\n",
       "    .dataframe tbody tr th {\n",
       "        vertical-align: top;\n",
       "    }\n",
       "\n",
       "    .dataframe thead th {\n",
       "        text-align: right;\n",
       "    }\n",
       "</style>\n",
       "<table border=\"1\" class=\"dataframe\">\n",
       "  <thead>\n",
       "    <tr style=\"text-align: right;\">\n",
       "      <th></th>\n",
       "      <th>sepal_length</th>\n",
       "      <th>sepal_width</th>\n",
       "      <th>petal_length</th>\n",
       "      <th>petal_width</th>\n",
       "      <th>Species</th>\n",
       "    </tr>\n",
       "  </thead>\n",
       "  <tbody>\n",
       "    <tr>\n",
       "      <th>mean</th>\n",
       "      <td>5.843333</td>\n",
       "      <td>3.054000</td>\n",
       "      <td>3.758667</td>\n",
       "      <td>1.198667</td>\n",
       "      <td>1.000000</td>\n",
       "    </tr>\n",
       "    <tr>\n",
       "      <th>std</th>\n",
       "      <td>0.828066</td>\n",
       "      <td>0.433594</td>\n",
       "      <td>1.764420</td>\n",
       "      <td>0.763161</td>\n",
       "      <td>0.819232</td>\n",
       "    </tr>\n",
       "    <tr>\n",
       "      <th>25%</th>\n",
       "      <td>5.100000</td>\n",
       "      <td>2.800000</td>\n",
       "      <td>1.600000</td>\n",
       "      <td>0.300000</td>\n",
       "      <td>0.000000</td>\n",
       "    </tr>\n",
       "    <tr>\n",
       "      <th>50%</th>\n",
       "      <td>5.800000</td>\n",
       "      <td>3.000000</td>\n",
       "      <td>4.350000</td>\n",
       "      <td>1.300000</td>\n",
       "      <td>1.000000</td>\n",
       "    </tr>\n",
       "    <tr>\n",
       "      <th>75%</th>\n",
       "      <td>6.400000</td>\n",
       "      <td>3.300000</td>\n",
       "      <td>5.100000</td>\n",
       "      <td>1.800000</td>\n",
       "      <td>2.000000</td>\n",
       "    </tr>\n",
       "  </tbody>\n",
       "</table>\n",
       "</div>"
      ],
      "text/plain": [
       "      sepal_length  sepal_width  petal_length  petal_width   Species\n",
       "mean      5.843333     3.054000      3.758667     1.198667  1.000000\n",
       "std       0.828066     0.433594      1.764420     0.763161  0.819232\n",
       "25%       5.100000     2.800000      1.600000     0.300000  0.000000\n",
       "50%       5.800000     3.000000      4.350000     1.300000  1.000000\n",
       "75%       6.400000     3.300000      5.100000     1.800000  2.000000"
      ]
     },
     "execution_count": 199,
     "metadata": {},
     "output_type": "execute_result"
    }
   ],
   "source": [
    "word_list = [\"mean\",\"std\",\"25%\",\"50%\",\"75%\"]\n",
    "df_describe = df.describe()\n",
    "print(\"mean:平均　std:標準偏差 25%:第一四分位数　５０％:第二四分位数　７５％:第三四分位数\")\n",
    "df_describe.loc[word_list]"
   ]
  },
  {
   "cell_type": "markdown",
   "metadata": {},
   "source": [
    "# 【問題4】irisデータセット自体の調査\n",
    "ページのはじめで「カナダのガスペ半島のある牧草地で」と書きましたが、データセット自体についてもう少し調査しておきましょう。データセットを見る上で、そのデータセット自体について知っておくことも大切です。\n",
    "\n"
   ]
  },
  {
   "cell_type": "markdown",
   "metadata": {},
   "source": [
    "Iris属 (アヤメ属) はアヤメ科に含まれる属のうちのひとつで，世界の温帯に150種が知られている (アヤメ属 - Wikipedia)．\n",
    "irisデータセットに含まれるIris setosa，Iris versicolor，Iris virginicaは，このアヤメ属に含まれる植物のうちの3種.\n",
    "\n",
    "米国の植物学者Edgar Andersonによって1936年に発表された研究のなかで，もともとの計測が行なわれている (Anderson, 1936)．\n",
    "数値データが報告されたのは，英国の統計学者Ronald Aylmer Fisherの1936年の論文である(Fisher, 1936 )．　　　　 \n",
    "\n",
    "アヤメ属の3種 (Iris setosa，Iris versicolor，Iris virginica) の種分化について,形態，遺伝，生態，進化の考察を行なった大論文である．　　\n",
    "論旨をごく簡単にまとめると，以下の通り．　　\n",
    "\n",
    "setosaに比べて，versicolorとvirginicaの形態はよく似ている\n",
    "\n",
    "setosaとの違いは，virsinicaのほうが大きく，versicolorで小さい　　　　\n",
    "\n",
    "versicolorは，setosaとvirginicaの雑種に由来しているかもしれない　　　　\n",
    "\n",
    "https://tsutatsutatsuta.hatenadiary.org/entry/20121206/1354737461  \n",
    "より引用\n"
   ]
  },
  {
   "cell_type": "markdown",
   "metadata": {},
   "source": [
    "# 【問題5】必要なデータを抽出\n",
    "DataFrameから必要なデータを抽出する方法を確認していきます。以下を行ってください。\n",
    "\n",
    "\n",
    "・sepal_widthの列を３つの異なる方法で抽出する\n",
    "\n",
    "・50番目から99番目までのデータを抽出する\n",
    "\n",
    "・petal_lengthの列の50番目から99番目までのデータを抽出する\n",
    "\n",
    "・petal_widthの値が0.2のデータを抽出する\n",
    "\n",
    ".locや.ilocを使うことになります。この２つはどう違うのかについて説明してください。\n",
    "\n"
   ]
  },
  {
   "cell_type": "code",
   "execution_count": 117,
   "metadata": {},
   "outputs": [],
   "source": [
    "#sepal_widthの列を３つの異なる方法で抽出\n",
    "sepal_width1 = df.sepal_width\n",
    "sepal_width2 = df[\"sepal_width\"]\n",
    "sepal_width3 = df.iloc[:,1:]\n",
    "#print(sepal_width1)\n",
    "#print(sepal_width2)\n",
    "#print(sepal_width3)\n",
    "\n",
    "#50番目から99番目までのデータを抽出する\n",
    "sepal_width_50_99 = df.iloc[50:100,:]\n",
    "#print(sepal_width_50_99)\n",
    "\n",
    "#petal_lengthの列の50番目から99番目までのデータを抽出する\n",
    "petal_length1 = df.petal_length[50:100]\n",
    "#print(petal_length1)\n",
    "\n",
    "petal_width_02 = df.petal_width[df.petal_width == 0.2]\n",
    "#print(petal_width_02)"
   ]
  },
  {
   "cell_type": "markdown",
   "metadata": {},
   "source": [
    "### .locと.ilocの違い\n",
    "loc属性:明示的なインデックスを使ったインデックスおよびスライスが可能になる。また、data[1:3]という指定をすると2番目から４番目までのデータにアクセスする。  \n",
    "iloc属性:間接的なPythonスタイルのインデックスを使ったインデックスとスライスを可能にする。また、data[1:3]という指定をすると2番目から3番目までのデータにアクセスする。"
   ]
  },
  {
   "cell_type": "markdown",
   "metadata": {},
   "source": [
    "# 【問題6】図の作成\n",
    "データは可視化して確認することが大切です。次の3つを行ってください。作図のライブラリはMatplotlibの他seabornもよく使われます。  \n",
    "ラベルごとのサンプル数を円グラフにする（パーセンテージまで表示する）  \n",
    "特徴量を一つずつ選び、箱ひげ図を使ってラベルごとのデータの分布を可視化する  \n",
    "特徴量を一つずつ選び、バイオリン図を使ってラベルごとのデータの分布を可視化する  \n",
    "箱ひげ図とバイオリン図は似た図を表示します。これらはどう違い、それぞれどのような利点があるのかについて説明してください。"
   ]
  },
  {
   "cell_type": "code",
   "execution_count": 200,
   "metadata": {
    "scrolled": true
   },
   "outputs": [
    {
     "data": {
      "image/png": "[encoded data removed]",
      "text/plain": [
       "<Figure size 432x288 with 1 Axes>"
      ]
     },
     "metadata": {},
     "output_type": "display_data"
    }
   ],
   "source": [
    "#円グラフ\n",
    "import matplotlib.pyplot as plt\n",
    "import numpy as np\n",
    "\n",
    "label_0 = df[df.Species == 0]\n",
    "label_1 = df[df.Species == 1]\n",
    "label_2 = df[df.Species == 2]\n",
    "label = [0,1,2]\n",
    "\n",
    "plt.title(\"label-percentage\",size=20)\n",
    "plt.axis('equal')\n",
    "colors = [\"red\",\"blue\",\"green\"]\n",
    "plt.pie([len(label_0),len(label_1),len(label_2)],labels = label,startangle=90,counterclock=False,colors = colors,autopct=\"%1.1f%%\")\n",
    "plt.show()"
   ]
  },
  {
   "cell_type": "code",
   "execution_count": 196,
   "metadata": {},
   "outputs": [
    {
     "data": {
      "image/png": "[encoded data removed]",
      "text/plain": [
       "<Figure size 1152x576 with 4 Axes>"
      ]
     },
     "metadata": {
      "needs_background": "light"
     },
     "output_type": "display_data"
    }
   ],
   "source": [
    "#箱ひげ図\n",
    "%matplotlib inline\n",
    "fig,ax = plt.subplots(1,4,figsize = (16,8))\n",
    "fig.suptitle(\"feature-values\",size = 20)\n",
    "\n",
    "name = df.keys()\n",
    "\n",
    "for i in range(4):\n",
    "    ax[i].boxplot([label_0[name[i]].T,label_1[name[i]].T,label_2[name[i]].T],labels = label)\n",
    "    ax[i].set_title(name[i])\n",
    "    ax[i].set_xlabel (\"label\",fontsize = 15)\n",
    "    \n",
    "plt.show()"
   ]
  },
  {
   "cell_type": "code",
   "execution_count": 197,
   "metadata": {},
   "outputs": [
    {
     "data": {
      "image/png": "[encoded data removed]",
      "text/plain": [
       "<Figure size 1152x576 with 4 Axes>"
      ]
     },
     "metadata": {
      "needs_background": "light"
     },
     "output_type": "display_data"
    }
   ],
   "source": [
    "#バイオリン図\n",
    "%matplotlib inline\n",
    "fig,ax = plt.subplots(1,4,figsize = (16,8))\n",
    "fig.suptitle(\"feature-values\",size = 20)\n",
    "\n",
    "name = df.keys()\n",
    "\n",
    "for i in range(4):\n",
    "    ax[i].violinplot([label_0[name[i]].T,label_1[name[i]].T,label_2[name[i]].T])#,positions = label)\n",
    "    ax[i].set_title(name[i])\n",
    "    ax[i].set_xlabel (\"label\",fontsize = 15)\n",
    "    \n",
    "plt.show()"
   ]
  },
  {
   "cell_type": "markdown",
   "metadata": {},
   "source": [
    "### 箱ひげ図とバイオリン図の違い,利点(matplotlibの関数をデフォルト設定で利用した場合）\n",
    "\n",
    "箱ひげ図：四分位数、最大最小値がわかる。分布のピークが二つある場合など、細かい分布まではわからない。\n",
    "\n",
    "バイオリン図:最大最小値はわかるが四分位数がわからない。複数のピークとその大きさなど、細かい分布がひと目でわかる。"
   ]
  },
  {
   "cell_type": "code",
   "execution_count": null,
   "metadata": {},
   "outputs": [],
   "source": []
  }
 ],
 "metadata": {
  "kernelspec": {
   "display_name": "Python 3",
   "language": "python",
   "name": "python3"
  },
  "language_info": {
   "codemirror_mode": {
    "name": "ipython",
    "version": 3
   },
   "file_extension": ".py",
   "mimetype": "text/x-python",
   "name": "python",
   "nbconvert_exporter": "python",
   "pygments_lexer": "ipython3",
   "version": "3.7.2"
  }
 },
 "nbformat": 4,
 "nbformat_minor": 2
}
