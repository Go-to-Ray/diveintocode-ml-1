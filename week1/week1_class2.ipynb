{
 "cells": [
  {
   "cell_type": "markdown",
   "metadata": {},
   "source": [
    "# 【問題1】富士山を超える最小の折る回数\n",
    "厚さが「富士山(3776m)」を超えるのは何回紙を折った時か計算するプログラムを作成してください。"
   ]
  },
  {
   "cell_type": "code",
   "execution_count": 8,
   "metadata": {},
   "outputs": [
    {
     "name": "stdout",
     "output_type": "stream",
     "text": [
      "26\n"
     ]
    }
   ],
   "source": [
    "THICKNESS = 0.00008\n",
    "folded_thickness = THICKNESS\n",
    "FUJI_HIGHT = 3776\n",
    "i = 0\n",
    "while folded_thickness <= FUJI_HIGHT:\n",
    "    folded_thickness *= 2\n",
    "    i += 1\n",
    "print(i)"
   ]
  },
  {
   "cell_type": "markdown",
   "metadata": {},
   "source": [
    "# 【問題2】任意の厚さに対応した関数を作成\n",
    "距離を入力すると、何回折った時に超えるかを出力する関数を作成してください。引数として、折る前の厚さ \n",
    "$t_0$も設定できるようにしましょう。\n",
    "\n",
    "\n",
    "この関数を利用して、「最も近い太陽以外の恒星」に到達するには紙を何回折る必要があるか計算してください。「最も近い太陽以外の恒星」の距離は調査してください。"
   ]
  },
  {
   "cell_type": "code",
   "execution_count": 15,
   "metadata": {},
   "outputs": [
    {
     "name": "stdout",
     "output_type": "stream",
     "text": [
      "ケンタウルス座アルファ星を超えるには紙を69回おる必要がある\n"
     ]
    }
   ],
   "source": [
    "\"\"\"太陽系から最も近い恒星はケンタウルス座アルファ星であり、\n",
    "約4.3光年離れている。1光年は約9.5兆キロメートルである。\"\"\"\n",
    "THICKNESS = 0.00008\n",
    "LIGHT_YEAR = 9460730472580800\n",
    "DISTANCE = 4.3*LIGHT_YEAR\n",
    "\n",
    "def calc_fold(dis,thick):\n",
    "    count = 0\n",
    "    while thick <= dis:\n",
    "        thick *= 2\n",
    "        count += 1\n",
    "    return count\n",
    "print(\"ケンタウルス座アルファ星を超えるには紙を{}回おる必要がある\".format(calc_fold(DISTANCE,THICKNESS)))"
   ]
  },
  {
   "cell_type": "markdown",
   "metadata": {},
   "source": [
    "# 【問題3】必要な紙の長さ\n",
    "実際のところ身近にある紙は43回はおろか10回も折れません。しかし、大きな紙ほどたくさん折ることができ、トイレットペーパーのような長い紙を一方向に折ることを考えた時の折れる回数を求める公式が存在します。\n",
    "\n",
    "\n",
    "厚さ $t_{0}$ の紙をn回折るために必要な紙の長さLは以下の公式で求まります。\n",
    "\n",
    "この公式を利用して、実際に紙を折り任意の厚さに到達するために必要な紙の長さを求める関数を作成してください。\n",
    "\n",
    "\n",
    "そしてこれを使って「月」「富士山」「最も近い太陽以外の恒星」に届くために必要な紙の長さを求めてください。"
   ]
  },
  {
   "cell_type": "code",
   "execution_count": 22,
   "metadata": {},
   "outputs": [
    {
     "name": "stdout",
     "output_type": "stream",
     "text": [
      "距離：3776\n",
      "紙の厚さ:0.00008\n",
      "26\n",
      "3776.0mを超えるには紙の長さは188646348487.24014m必要である。\n"
     ]
    }
   ],
   "source": [
    "import math\n",
    "\n",
    "def paper_length(distance,thickness):\n",
    "    n = calc_fold(distance,thickness)\n",
    "    print(n)\n",
    "    return (math.pi * thickness * (2**n + 4) * (2**n - 1))/6\n",
    "\n",
    "a,b = float(input(\"距離：\")),float(input(\"紙の厚さ:\"))\n",
    "print(\"{}mを超えるには紙の長さは{}m必要である。\".format(a,paper_length(a,b)))"
   ]
  }
 ],
 "metadata": {
  "kernelspec": {
   "display_name": "Python 3",
   "language": "python",
   "name": "python3"
  },
  "language_info": {
   "codemirror_mode": {
    "name": "ipython",
    "version": 3
   },
   "file_extension": ".py",
   "mimetype": "text/x-python",
   "name": "python",
   "nbconvert_exporter": "python",
   "pygments_lexer": "ipython3",
   "version": "3.7.2"
  }
 },
 "nbformat": 4,
 "nbformat_minor": 2
}
