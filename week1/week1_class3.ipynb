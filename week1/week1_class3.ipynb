{
 "cells": [
  {
   "cell_type": "markdown",
   "metadata": {},
   "source": [
    "# 【問題】栗まんじゅうが太陽系を覆う日\n",
    "1個の栗まんじゅうにバイバインを振りかけた場合、太陽系が栗まんじゅうで覆われるのは何分後でしょうか。これを計算するプログラムを作成してください。\n",
    "\n",
    "\n",
    "栗まんじゅうや太陽系の体積を調査した上で仮定して計算してください。栗まんじゅうの隙間や重力などは考えず、問題を単純化して構いません。\n",
    "\n",
    "\n",
    "ボールにバイバインを振りかけた時、東京ドームが一杯になる時間など他の状況にも適用できるような汎用的なプログラムを作成してください。また、グラフを表示するなど分かりやすいノートブックを作成してください。"
   ]
  },
  {
   "cell_type": "code",
   "execution_count": 14,
   "metadata": {},
   "outputs": [
    {
     "data": {
      "image/png": "[encoded data removed]",
      "text/plain": [
       "<Figure size 432x288 with 1 Axes>"
      ]
     },
     "metadata": {
      "needs_background": "light"
     },
     "output_type": "display_data"
    },
    {
     "name": "stdout",
     "output_type": "stream",
     "text": [
      "栗まんじゅうは740分後までに148回増加し、太陽系を覆い尽くす。\n"
     ]
    }
   ],
   "source": [
    "%matplotlib inline\n",
    "import matplotlib.pyplot as plt\n",
    "import math\n",
    "import numpy as np\n",
    "\n",
    "\n",
    "MANJU = 6*4*3*10**-6  #栗まんじゅうの体積\n",
    "r_solar_system = 120*149597870700\n",
    "SOLAR_SYSTEM =   (4/3)*math.pi*r_solar_system**3  #太陽系の体積\n",
    "\n",
    "def time_calc(many_things,capacity):\n",
    "    many_things_list = [many_things]\n",
    "    count = 0\n",
    "    while(capacity >= many_things):\n",
    "        many_things *= 2\n",
    "        many_things_list.append(many_things)\n",
    "        count += 1\n",
    "    \n",
    "    \n",
    "    \n",
    "    #グラフ描画\n",
    "    fig = plt.figure()\n",
    "    ax = fig.add_subplot(111)\n",
    "    ax.plot(many_things_list,label = \"manju\")\n",
    "    xlabel_list = np.arange(0,151,5)  #x軸メモリ用のndarray\n",
    "    ax.set_xticks(xlabel_list)\n",
    "    ax.set_xticklabels(xlabel_list*5)\n",
    "    ax.set_xlabel(\"minutes\")\n",
    "    ax.set_ylabel(\"volume\")\n",
    "    ax.axhline(y=SOLAR_SYSTEM,color=\"red\",label = \"solar_system\")\n",
    "    ax.set_xlim(130,)\n",
    "    plt.legend()\n",
    "    plt.show()    \n",
    "    return count\n",
    "\n",
    "count_manju = time_calc(MANJU,SOLAR_SYSTEM)\n",
    "\n",
    "print(\"栗まんじゅうは{}分後までに{}回増加し、太陽系を覆い尽くす。\".format(count_manju*5,count_manju))\n"
   ]
  },
  {
   "cell_type": "code",
   "execution_count": null,
   "metadata": {},
   "outputs": [],
   "source": []
  }
 ],
 "metadata": {
  "kernelspec": {
   "display_name": "Python 3",
   "language": "python",
   "name": "python3"
  },
  "language_info": {
   "codemirror_mode": {
    "name": "ipython",
    "version": 3
   },
   "file_extension": ".py",
   "mimetype": "text/x-python",
   "name": "python",
   "nbconvert_exporter": "python",
   "pygments_lexer": "ipython3",
   "version": "3.7.2"
  }
 },
 "nbformat": 4,
 "nbformat_minor": 2
}
