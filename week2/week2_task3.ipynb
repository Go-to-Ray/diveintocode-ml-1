{
 "cells": [
  {
   "cell_type": "markdown",
   "metadata": {},
   "source": [
    "# 【問題1】行列積を手計算する\n",
    "AとBの行列積を手計算で解いてください。\n",
    "計算過程もマークダウンテキストを用いて説明してください。  \n",
    "A = [[-1 2 3],[4 -5 6],[7,8,-9]]  \n",
    "B = [[0 2 1],[0 2 -8],[2 9 -1]]"
   ]
  },
  {
   "cell_type": "markdown",
   "metadata": {},
   "source": [
    "AB =  [  \n",
    "[-1×0+2×0+3×2, -1×2+2×2+3×9, -1×1+2×(-8)+3×(-1)]  \n",
    "[4×0-5×0+6×2, 4×2-5×2+6×9, 4×1-5×(-8)+6×(-1)]  \n",
    "[7×0+8×0-9×2, 7×2+8×2-9×9, 7×1+8×(-8)-9×(-1)]  \n",
    "= [  \n",
    "[6, 29, -20],  \n",
    "[12, 52, 38],  \n",
    "[-18,-51-48],  \n",
    "]"
   ]
  },
  {
   "cell_type": "markdown",
   "metadata": {},
   "source": [
    "# 【問題2】NumPyの関数による計算\n",
    "この行列積はNumPyのnp.matmul()やnp.dot()、または@演算子を使うことで簡単に計算できます。\n",
    "\n",
    "\n",
    "これらを使い行列積を計算してください。"
   ]
  },
  {
   "cell_type": "code",
   "execution_count": 92,
   "metadata": {},
   "outputs": [
    {
     "name": "stdout",
     "output_type": "stream",
     "text": [
      "A*B=\n",
      "[[  6  29 -20]\n",
      " [ 12  52  38]\n",
      " [-18 -51 -48]]\n"
     ]
    }
   ],
   "source": [
    "import numpy as np\n",
    "A = np.array([[-1,2,3],[4,-5,6],[7,8,-9]])\n",
    "B = np.array([[0,2,1],[0,2,-8],[2,9,-1]])\n",
    "print(\"A*B=\\n{}\".format(np.matmul(A,B)))"
   ]
  },
  {
   "cell_type": "markdown",
   "metadata": {},
   "source": [
    "# 【問題3】ある要素の計算を実装\n",
    "手計算をする際はまず行列Aの0行目と行列Bの0列目に注目し、以下の計算を行ったかと思います。\n",
    "\n",
    "1.行列Aの(0,0)の要素 $a_{0, 0}$ と行列Bの(0,0)の要素 $b_{0, 0}$ を掛け合わせる   \n",
    "2.行列Aの(0,1)の要素 $a_{0, 1}$ と行列Bの(1,0)の要素 $b_{1, 0}$ を掛け合わせる  \n",
    "3.行列Aの(0,2)の要素 $a_{0, 2}$ と行列Bの(2,0)の要素 $b_{2, 0}$ を掛け合わせる  \n",
    "4.それらの値を全て足し合わせる    \n",
    "この計算をnp.matmul()やnp.dot()、または@演算子を使わずに行うコードを書いてください。"
   ]
  },
  {
   "cell_type": "code",
   "execution_count": 95,
   "metadata": {},
   "outputs": [
    {
     "data": {
      "text/plain": [
       "6"
      ]
     },
     "execution_count": 95,
     "metadata": {},
     "output_type": "execute_result"
    }
   ],
   "source": [
    "A[0,0]*B[0,0]+A[0,1]*B[1,0]+A[0,2]*B[2,0]"
   ]
  },
  {
   "cell_type": "markdown",
   "metadata": {},
   "source": [
    "# 【問題4】行列積を行う関数の作成\n",
    "問題3のコードを拡張し、行列積のスクラッチ実装を完成させてください。行列AとBを引数に受け取り、行列積を返す関数としてください。  \n",
    "行列積を計算する場合は、問題3の計算を異なる行や列に対して繰り返していくことになります。"
   ]
  },
  {
   "cell_type": "code",
   "execution_count": 126,
   "metadata": {},
   "outputs": [
    {
     "name": "stdout",
     "output_type": "stream",
     "text": [
      "[[  6  29 -20]\n",
      " [ 12  52  38]\n",
      " [-18 -51 -48]]\n"
     ]
    }
   ],
   "source": [
    "import numpy as np\n",
    "import sys\n",
    "\n",
    "#n×m行列の積を求める関数\n",
    "def queue_mul(a,b):\n",
    "    #ndarrayの準備\n",
    "    a,b = np.array(a),np.array(b)\n",
    "    \n",
    "    #２次元配列の判定\n",
    "    if a.ndim == 2 and b.ndim == 2:\n",
    "        #a_index=aの行数,　　b_index=bの列数\n",
    "        a_index,b_columns = len(a[:,0]),len(b[0,:])\n",
    "        #returnするndarrayの初期化\n",
    "        c = np.arange(a_index*b_columns).reshape([a_index,b_columns])\n",
    "        \n",
    "        #積の計算部分\n",
    "        for i in range(a_index):\n",
    "            for j in range(b_columns):\n",
    "                #行列aのi行目と行列bのj列目を取り出して計算\n",
    "                c[i,j] = np.sum(a[i,:]*b[:,j])\n",
    "        return c\n",
    "    #行列a,bが２次元ではないとき\n",
    "    else:\n",
    "        sys.exit(\"2次元の配列を入力してください\")\n",
    "    \n",
    "x = queue_mul(A,B)\n",
    "print(x)"
   ]
  },
  {
   "cell_type": "markdown",
   "metadata": {},
   "source": [
    "# 【問題5】計算が定義されない入力を判定する\n",
    "問題4で作成した関数は、実装方法によってはこのDとEの配列を入力しても動いてしまう可能性があります。この場合、不適切な計算が行われることになります。また、途中でエラーになる場合でも、なぜエラーになったかが直接的には分かりづらいメッセージが表示されます。  \n",
    "if文などによってこれを防ぎ、入力される形に問題があることをprint()を使い表示するコードを書き加えてください。"
   ]
  },
  {
   "cell_type": "code",
   "execution_count": 129,
   "metadata": {},
   "outputs": [
    {
     "name": "stdout",
     "output_type": "stream",
     "text": [
      "入力に誤りがあるため計算不可です\n",
      "計算結果:\n",
      "None\n",
      "\n",
      "計算結果:\n",
      "[[  6  29 -20]\n",
      " [ 12  52  38]\n",
      " [-18 -51 -48]]\n"
     ]
    }
   ],
   "source": [
    "def queue_mul2(a,b):\n",
    "    if len(a[0,:])==len(b[:,0]):\n",
    "        return queue_mul(a,b)\n",
    "    else:\n",
    "        print(\"入力に誤りがあるため計算不可です\")\n",
    "        return None\n",
    "\n",
    "d_ndarray = np.array([[-1, 2, 3], [4, -5, 6]])\n",
    "e_ndarray = np.array([[-9, 8, 7], [6, -5, 4]])\n",
    "\n",
    "#計算不可の行列を与える\n",
    "print(\"計算結果:\\n{}\\n\".format(queue_mul2(d_ndarray,e_ndarray)))\n",
    "\n",
    "#計算可能な行列を与える\n",
    "print(\"計算結果:\\n{}\".format(queue_mul2(A,B)))"
   ]
  },
  {
   "cell_type": "markdown",
   "metadata": {},
   "source": [
    "# 【問題6】転置\n",
    "片方の行列を転置することで、行列積が計算できるようになります。\n",
    "\n",
    "\n",
    "np.transpose()や.Tアトリビュートを用いて転置し、行列積を計算してください。"
   ]
  },
  {
   "cell_type": "code",
   "execution_count": 130,
   "metadata": {},
   "outputs": [
    {
     "name": "stdout",
     "output_type": "stream",
     "text": [
      "Dの転置行列とEの積:\n",
      "[[ 33 -28   9]\n",
      " [-48  41  -6]\n",
      " [  9  -6  45]]\n",
      "検算:\n",
      "[[ 33 -28   9]\n",
      " [-48  41  -6]\n",
      " [  9  -6  45]]\n"
     ]
    }
   ],
   "source": [
    "print(\"Dの転置行列とEの積:\\n{}\".format(queue_mul2(d_ndarray.T,e_ndarray)))\n",
    "\n",
    "print(\"検算:\\n{}\".format(d_ndarray.T@e_ndarray))"
   ]
  },
  {
   "cell_type": "code",
   "execution_count": null,
   "metadata": {},
   "outputs": [],
   "source": []
  }
 ],
 "metadata": {
  "kernelspec": {
   "display_name": "Python 3",
   "language": "python",
   "name": "python3"
  },
  "language_info": {
   "codemirror_mode": {
    "name": "ipython",
    "version": 3
   },
   "file_extension": ".py",
   "mimetype": "text/x-python",
   "name": "python",
   "nbconvert_exporter": "python",
   "pygments_lexer": "ipython3",
   "version": "3.7.2"
  }
 },
 "nbformat": 4,
 "nbformat_minor": 2
}
