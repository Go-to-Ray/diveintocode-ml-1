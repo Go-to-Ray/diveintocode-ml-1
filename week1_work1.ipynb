{
 "cells": [
  {
   "cell_type": "code",
   "execution_count": 2,
   "metadata": {},
   "outputs": [
    {
     "name": "stdout",
     "output_type": "stream",
     "text": [
      "厚さ： 703687441.77664メートル\n"
     ]
    }
   ],
   "source": [
    "#問題１\n",
    "\n",
    "\"\"\"\n",
    "紙を1回折った時の厚さを計算するコード\n",
    "\"\"\"\n",
    "THICKNESS = 0.00008\n",
    "folded_thickness = THICKNESS*2**43\n",
    "print(\"厚さ： {}メートル\".format(folded_thickness))"
   ]
  },
  {
   "cell_type": "code",
   "execution_count": 3,
   "metadata": {},
   "outputs": [
    {
     "name": "stdout",
     "output_type": "stream",
     "text": [
      "厚さ： 70.37万キロメートル\n"
     ]
    }
   ],
   "source": [
    "#問題２\n",
    "\n",
    "# メートルをキロメートルに変換して小数点以下2桁で表示する\n",
    "print(\"厚さ： {:.2f}万キロメートル\".format(folded_thickness/10000000))\n",
    "#月までの距離は約38万キロメートルであるため、余裕で届く！"
   ]
  },
  {
   "cell_type": "code",
   "execution_count": 8,
   "metadata": {},
   "outputs": [
    {
     "name": "stdout",
     "output_type": "stream",
     "text": [
      "厚さ： 703687441.77664メートル\n"
     ]
    }
   ],
   "source": [
    "#問題３\n",
    "\n",
    "folded_thickness2 = THICKNESS\n",
    "for _ in range(43):\n",
    "     folded_thickness2 *= 2\n",
    "print(\"厚さ： {}メートル\".format(folded_thickness))"
   ]
  },
  {
   "cell_type": "code",
   "execution_count": 103,
   "metadata": {},
   "outputs": [
    {
     "name": "stdout",
     "output_type": "stream",
     "text": [
      "べき乗の方が0.0059604644775390625ms速い\n"
     ]
    }
   ],
   "source": [
    "#問題４\n",
    "\n",
    "#べき乗の算術演算子を使用\n",
    "import time\n",
    "start1 = time.time()\n",
    "folded_thickness = THICKNESS*2**43\n",
    "elapsed_time1 = time.time() - start1\n",
    "\n",
    "#for文を使用\n",
    "start2 = time.time()\n",
    "for _ in range(43):\n",
    "     folded_thickness2 *= 2\n",
    "elapsed_time2 = time.time() - start2\n",
    "\n",
    "print(\"べき乗の方が{}ms速い\".format((elapsed_time2 - elapsed_time1)*1000))"
   ]
  },
  {
   "cell_type": "code",
   "execution_count": null,
   "metadata": {},
   "outputs": [],
   "source": [
    "#問題４　比較結果\n",
    "\n",
    "'''実行するたびに数値にばらつきがあるが、\n",
    "べき乗の算術演算子を使用した方がfor文を\n",
    "使用するよりもほぼ毎回計算速度は速かった。'''"
   ]
  },
  {
   "cell_type": "code",
   "execution_count": 104,
   "metadata": {},
   "outputs": [
    {
     "name": "stdout",
     "output_type": "stream",
     "text": [
      "べき乗の方が0.11372566223144531ms速い\n"
     ]
    }
   ],
   "source": [
    "#問題４ 発展\n",
    "\n",
    "#べき乗の算術演算子を使用\n",
    "import time\n",
    "start1 = time.time()\n",
    "folded_thickness = THICKNESS*2**1000\n",
    "elapsed_time1 = time.time() - start1\n",
    "\n",
    "#for文を使用\n",
    "start2 = time.time()\n",
    "for _ in range(1000):\n",
    "     folded_thickness2 *= 2\n",
    "elapsed_time2 = time.time() - start2\n",
    "\n",
    "print(\"べき乗の方が{}ms速い\".format((elapsed_time2 - elapsed_time1)*1000))"
   ]
  },
  {
   "cell_type": "code",
   "execution_count": null,
   "metadata": {},
   "outputs": [],
   "source": [
    "#問題４　発展　比較結果\n",
    "\n",
    "'''43ではなく1000にしたところ、その差が数十倍に広がった'''"
   ]
  },
  {
   "cell_type": "code",
   "execution_count": 113,
   "metadata": {},
   "outputs": [
    {
     "name": "stdout",
     "output_type": "stream",
     "text": [
      "0:  8e-08\n",
      "1:  1.6e-07\n",
      "2:  3.2e-07\n",
      "3:  6.4e-07\n",
      "4:  1.28e-06\n",
      "5:  2.56e-06\n",
      "6:  5.12e-06\n",
      "7:  1.024e-05\n",
      "8:  2.048e-05\n",
      "9:  4.096e-05\n",
      "10:  8.192e-05\n",
      "11:  0.00016384\n",
      "12:  0.00032768\n",
      "13:  0.00065536\n",
      "14:  0.00131072\n",
      "15:  0.00262144\n",
      "16:  0.00524288\n",
      "17:  0.01048576\n",
      "18:  0.02097152\n",
      "19:  0.04194304\n",
      "20:  0.08388608\n",
      "21:  0.16777216\n",
      "22:  0.33554432\n",
      "23:  0.67108864\n",
      "24:  1.34217728\n",
      "25:  2.68435456\n",
      "26:  5.36870912\n",
      "27:  10.73741824\n",
      "28:  21.47483648\n",
      "29:  42.94967296\n",
      "30:  85.89934592\n",
      "31:  171.79869184\n",
      "32:  343.59738368\n",
      "33:  687.19476736\n",
      "34:  1374.38953472\n",
      "35:  2748.77906944\n",
      "36:  5497.55813888\n",
      "37:  10995.11627776\n",
      "38:  21990.23255552\n",
      "39:  43980.46511104\n",
      "40:  87960.93022208\n",
      "41:  175921.86044416\n",
      "42:  351843.72088832\n",
      "43:  703687.44177664\n"
     ]
    }
   ],
   "source": [
    "#問題５\n",
    "\n",
    "THICKNESS = 0.00008\n",
    "thickness_list = []\n",
    "thickness_list.append(THICKNESS)\n",
    "for i in range(1,44):\n",
    "    thickness_list.append(THICKNESS*2**i)\n",
    "for i in range(44):\n",
    "    print(\"{}:  {}\".format(i,thickness_list[i]/1000))\n",
    "#print(thickness_list)"
   ]
  },
  {
   "cell_type": "code",
   "execution_count": 114,
   "metadata": {},
   "outputs": [
    {
     "data": {
      "image/png": "[encoded data removed]",
      "text/plain": [
       "<Figure size 432x288 with 1 Axes>"
      ]
     },
     "metadata": {
      "needs_background": "light"
     },
     "output_type": "display_data"
    }
   ],
   "source": [
    "#問題６\n",
    "\n",
    "\"\"\"\n",
    "グラフを表示する。タイトルと軸ラベル名付き。\n",
    "\"\"\"\n",
    "import matplotlib.pyplot as plt\n",
    "%matplotlib inline\n",
    "plt.title(\"thickness of folded paper\")\n",
    "plt.xlabel(\"number of folds\")\n",
    "plt.ylabel(\"thickness[m]\")\n",
    "plt.plot(thickness_list) # 「リスト名」のところにリストの変数名を入れる\n",
    "plt.show()"
   ]
  },
  {
   "cell_type": "code",
   "execution_count": null,
   "metadata": {},
   "outputs": [],
   "source": [
    "#問題６　考察\n",
    "\"\"\"３０回を過ぎるあたりまではほぼ変化無しに見えるが、\n",
    "３０回後半になってくると一気に数値が伸び始め、４０回を\n",
    "超えたあたりからグラフの傾きはほぼ垂直になっている。\"\"\""
   ]
  },
  {
   "cell_type": "code",
   "execution_count": 129,
   "metadata": {},
   "outputs": [
    {
     "data": {
      "image/png": "[encoded data removed]",
      "text/plain": [
       "<Figure size 432x288 with 1 Axes>"
      ]
     },
     "metadata": {
      "needs_background": "light"
     },
     "output_type": "display_data"
    }
   ],
   "source": [
    "#問題６　線の太さと線の種類を変更\n",
    "\n",
    "\"\"\"\n",
    "グラフを表示する。タイトルと軸ラベル名付き。\n",
    "\"\"\"\n",
    "import matplotlib.pyplot as plt\n",
    "%matplotlib inline\n",
    "plt.title(\"thickness of folded paper\")\n",
    "plt.xlabel(\"number of folds\")\n",
    "plt.ylabel(\"thickness[m]\")\n",
    "plt.plot(thickness_list,linewidth = 5,linestyle=\"--\") #変更\n",
    "plt.show()"
   ]
  },
  {
   "cell_type": "code",
   "execution_count": 130,
   "metadata": {},
   "outputs": [
    {
     "data": {
      "image/png": "[encoded data removed]",
      "text/plain": [
       "<Figure size 432x288 with 1 Axes>"
      ]
     },
     "metadata": {
      "needs_background": "light"
     },
     "output_type": "display_data"
    }
   ],
   "source": [
    "#問題６ x軸とy軸とグラフの線の色を変更。線の種類も変更\n",
    "\n",
    "\"\"\"\n",
    "グラフを表示する。タイトルと軸ラベル名付き。\n",
    "\"\"\"\n",
    "import matplotlib.pyplot as plt\n",
    "%matplotlib inline\n",
    "plt.title(\"thickness of folded paper\")\n",
    "plt.xlabel(\"number of folds\",color = \"red\")#変更\n",
    "plt.ylabel(\"thickness[m]\",color = \"blue\")#変更\n",
    "plt.plot(thickness_list,linestyle=\":\",color = \"purple\") #変更\n",
    "plt.show()"
   ]
  },
  {
   "cell_type": "code",
   "execution_count": 140,
   "metadata": {},
   "outputs": [
    {
     "data": {
      "image/png": "[encoded data removed]",
      "text/plain": [
       "<Figure size 432x288 with 1 Axes>"
      ]
     },
     "metadata": {
      "needs_background": "light"
     },
     "output_type": "display_data"
    }
   ],
   "source": [
    "#問題６ x軸,y軸,タイトルの線のフォントサイズを変更。\n",
    "\n",
    "\"\"\"\n",
    "グラフを表示する。タイトルと軸ラベル名付き。\n",
    "\"\"\"\n",
    "import matplotlib.pyplot as plt\n",
    "%matplotlib inline\n",
    "plt.title(\"thickness of folded paper\",fontsize=20)#変更\n",
    "plt.xlabel(\"number of folds\",fontsize=20)#変更\n",
    "plt.ylabel(\"thickness[m]\",fontsize=20)#変更\n",
    "plt.plot(thickness_list) \n",
    "plt.show()"
   ]
  },
  {
   "cell_type": "code",
   "execution_count": null,
   "metadata": {},
   "outputs": [],
   "source": []
  }
 ],
 "metadata": {
  "kernelspec": {
   "display_name": "Python 3",
   "language": "python",
   "name": "python3"
  },
  "language_info": {
   "codemirror_mode": {
    "name": "ipython",
    "version": 3
   },
   "file_extension": ".py",
   "mimetype": "text/x-python",
   "name": "python",
   "nbconvert_exporter": "python",
   "pygments_lexer": "ipython3",
   "version": "3.7.2"
  }
 },
 "nbformat": 4,
 "nbformat_minor": 2
}
