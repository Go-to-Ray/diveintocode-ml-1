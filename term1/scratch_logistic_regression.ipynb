{
 "cells": [
  {
   "cell_type": "markdown",
   "metadata": {},
   "source": [
    "# 【問題1】仮定関数\n",
    "ロジスティック回帰の仮定関数のメソッドをScratchLogisticRegressionクラスに実装してください。\n",
    "\n",
    "\n",
    "ロジスティック回帰の仮定関数は、線形回帰の仮定関数を シグモイド関数 に通したものです。シグモイド関数は以下の式で表されます。\n",
    "\n"
   ]
  },
  {
   "cell_type": "markdown",
   "metadata": {},
   "source": [
    "## $g(z) = \\frac{1}{1+e^{−z}}.$\n",
    "\n",
    "線形回帰の仮定関数は次の式でした。\n",
    "\n",
    "## $h_\\theta(x) = \\theta^T \\cdot x.$\n",
    "\n",
    "まとめて書くと、ロジスティック回帰の仮定関数は次のようになります。\n",
    "\n",
    "## $h_\\theta(x) = \\frac{1}{1+e^{−\\theta^T \\cdot x}}.$\n",
    "\n",
    "$x$:特徴量ベクトル\n",
    "\n",
    "$θ$:パラメータ（重み）ベクトル"
   ]
  },
  {
   "cell_type": "code",
   "execution_count": 72,
   "metadata": {},
   "outputs": [],
   "source": [
    "import numpy as np\n",
    "import pandas as pd\n",
    "import matplotlib.pyplot as plt\n",
    "from sklearn.model_selection import train_test_split\n",
    "import warnings\n",
    "import seaborn as sns\n",
    "from sklearn.preprocessing import StandardScaler\n",
    "from mpl_toolkits.mplot3d import Axes3D\n",
    "from matplotlib import cm\n",
    "from sklearn.linear_model import LogisticRegression\n",
    "from sklearn.metrics import accuracy_score\n",
    "from sklearn.datasets import load_iris\n",
    "from sklearn.linear_model import LinearRegression\n",
    "from sklearn.metrics import mean_squared_error\n",
    "from sklearn.model_selection import KFold\n",
    "import warnings\n",
    "warnings.simplefilter(\"ignore\")"
   ]
  },
  {
   "cell_type": "code",
   "execution_count": 2,
   "metadata": {},
   "outputs": [],
   "source": [
    "#メソッドの中に入れる形\n",
    "def _linear_hypothesis(self, X):\n",
    "    \"\"\"\n",
    "    線形の仮定関数を計算する\n",
    "    Parameters\n",
    "    ----------\n",
    "    X : 次の形のndarray, shape (n_samples, n_features)\n",
    "    訓練データ\n",
    "    Returns\n",
    "    -------\n",
    "    次の形のndarray, shape (n_samples, 1)\n",
    "    線形の仮定関数による推定結果\n",
    "    \"\"\"\n",
    "    if X.ndim == 1:  #Xが１次元の時\n",
    "        X = X[:,np.newaxis]  #２次元に変形\n",
    "    if (X.shape[1] != self.theta.T.shape[0])&(self.bias==True):\n",
    "        #x_0が含まれていない状態でXを受け取り（外部からのメソッド呼び出しを想定）、かつバイアス項を使う時\n",
    "        X = np.concatenate([np.ones(X.shape[0])[:,np.newaxis],X],axis=1)\n",
    "    return 1/(1+np.exp(np.dot(X,self.theta.T)))"
   ]
  },
  {
   "cell_type": "markdown",
   "metadata": {},
   "source": [
    "# 【問題2】最急降下法\n",
    "最急降下法により学習させる実装を行なってください。以下の式で表されるパラメータの更新式のメソッド_gradient_descentを追加し、fit\n",
    "メソッドから呼び出すようにしてください。\n",
    "\n",
    "## $\\theta_j := \\theta_j - \\alpha \\frac{\\partial J(\\theta)}{\\partial \\theta_j}$\n",
    "\n",
    "## $\\frac{\\partial J(\\theta)}{\\partial \\theta_0} = \\frac{1}{m}  \\sum_{i=1}^{m}(h_θ(x^{(i)}) − y^{(i)})x_j^{(i)}  ,j = 0$\n",
    "\n",
    "## $\\frac{\\partial J(\\theta)}{\\partial \\theta_j} = \\biggl(\\frac{1}{m}  \\sum_{i=1}^{m}(h_θ(x^{(i)}) − y^{(i)})x_j^{(i)} \\biggr) + \\frac{λ}{m}\\theta_j　 ,j\\geq 1$\n",
    "\n",
    "α\n",
    "  : 学習率\n",
    "\n",
    "\n",
    "i\n",
    " : サンプルのインデックス\n",
    "\n",
    "\n",
    "j\n",
    " : 特徴量のインデックス\n",
    "\n",
    "\n",
    "m\n",
    " : 入力されるデータの数\n",
    "\n",
    "\n",
    "h\n",
    "(\n",
    "θ\n",
    ")\n",
    " : 仮定関数\n",
    "\n",
    "\n",
    "x\n",
    " : 特徴量ベクトル\n",
    "\n",
    "\n",
    "θ\n",
    " : パラメータ（重み）ベクトル\n",
    "\n",
    "\n",
    "x\n",
    "(\n",
    "i\n",
    ")\n",
    " : i番目のサンプルの特徴量ベクトル\n",
    "\n",
    "\n",
    "y\n",
    "(\n",
    "i\n",
    ")\n",
    " : i番目のサンプルの正解ラベル\n",
    "\n",
    "\n",
    "θ\n",
    "j\n",
    " : j番目のパラメータ（重み）\n",
    "\n",
    "\n",
    "λ\n",
    " : 正則化パラメータ"
   ]
  },
  {
   "cell_type": "code",
   "execution_count": 192,
   "metadata": {},
   "outputs": [],
   "source": [
    "#クラス内に定義したメソッドの形をそのまま取り出した\n",
    "#26,27行目でスライスを用いてθの更新を行っている\n",
    "    def _gradient_descent(self, X,error=np.empty(1)):\n",
    "        \"\"\"\n",
    "        θとXを用いて次のθを計算する\n",
    "        Parameters\n",
    "        ----------\n",
    "        X : 次の形のndarray, shape (n_samples, n_features)\n",
    "            訓練データの特徴量\n",
    "            \n",
    "        error:次の形のndarray,shape (n_samples,)\n",
    "            予測値と正解値の残差\n",
    "        --------\n",
    "        Returns\n",
    "        --------\n",
    "        次の形のndarray,shape(n_samples,)\n",
    "        予測値と正解値の残差\n",
    "        \"\"\"\n",
    "        if error.shape == (1,):  #errorが渡されていない時\n",
    "            #θが与えられていない時だけ初期化する\n",
    "            if self.theta.shape == (1,):\n",
    "                self.theta = np.ones(X.shape[1]).reshape(1,-1)  #θを1で初期化\n",
    "            error = (self._linear_hypothesis(X) - self.y).reshape(1,-1)\n",
    "        else:  #errorが渡されている時\n",
    "            error = (self.predict_proba(X) - self.y).flatten()\n",
    "        self.theta[0,0] = self.theta[0,0]- (self.lr/X.shape[0])*error@self.X[:,0]\n",
    "        self.theta[0,1:] = self.theta[0,1:] - (self.lr/X.shape[0])*error@self.X[:,1:]+ (self.lam/X.shape[0])*self.theta[0,1:]\n",
    "        return error"
   ]
  },
  {
   "cell_type": "markdown",
   "metadata": {},
   "source": [
    "# 【問題3】推定\n",
    "推定する仕組みを実装してください。ScratchLogisticRegressionクラスの雛形に含まれるpredictメソッドとpredict_probaメソッドに書き加えてください。\n",
    "\n",
    "\n",
    "仮定関数 \n",
    "$\n",
    "h_θ\n",
    "(\n",
    "x\n",
    ")\n",
    " $の出力がpredict_probaの返り値、さらにその値に閾値を設けて1と0のラベルとしたものがpredictの返り値となります。"
   ]
  },
  {
   "cell_type": "code",
   "execution_count": 152,
   "metadata": {},
   "outputs": [],
   "source": [
    "class ScratchLogisticRegression():\n",
    "    \"\"\"\n",
    "    ロジスティック回帰のスクラッチ実装\n",
    "\n",
    "    Parameters\n",
    "    ----------\n",
    "    num_iter : int\n",
    "      イテレーション数\n",
    "    lr : float\n",
    "      学習率\n",
    "    no_bias : bool\n",
    "      バイアス項を入れない場合はTrue\n",
    "    verbose : bool\n",
    "      学習過程を出力する場合はTrue\n",
    "\n",
    "    Attributes\n",
    "    ----------\n",
    "    self.coef_ : 次の形のndarray, shape (n_features,)\n",
    "      パラメータ\n",
    "    self.loss : 次の形のndarray, shape (self.iter,)\n",
    "      訓練データに対する損失の記録\n",
    "    self.val_loss : 次の形のndarray, shape (self.iter,)\n",
    "      検証データに対する損失の記録\n",
    "\n",
    "    \"\"\"\n",
    "    def __init__(self,num_iter=10000,lam=1e-3,lr=1e-2,bias=True, verbose=False,name=\"empty\"):\n",
    "        # ハイパーパラメータを属性として記録\n",
    "        self.iter = num_iter\n",
    "        self.lr = lr\n",
    "        self.bias = bias\n",
    "        self.verbose = verbose\n",
    "        self.lam = lam\n",
    "        #すでに使ったことのあるクラスだった場合にnameにクラス名をstr型で指定すると,\n",
    "        #filesにあるバイナリファイルからすでに計算済みのθを取ってくる.\n",
    "        save_filename = \"files/\"+name+\".npz\"\n",
    "        #バイナリファイルからndarray読み込み\n",
    "        if name == \"empty\":\n",
    "            self.theta = np.empty(1)\n",
    "        else:\n",
    "            self.theta = np.load(save_filename)[name]\n",
    "        # 損失を記録する配列を用意\n",
    "        self.loss = np.zeros(self.iter)\n",
    "        self.val_loss = np.zeros(self.iter)\n",
    "    def fit(self, X, y, X_val=np.empty(1), y_val=np.empty(1)):\n",
    "        \"\"\"\n",
    "        ロジスティック回帰を学習する。検証データが入力された場合はそれに対する損失と精度もイテレーションごとに計算する。\n",
    "\n",
    "        Parameters\n",
    "        ----------\n",
    "        X : 次の形のndarray, shape (n_samples, n_features)\n",
    "            訓練データの特徴量\n",
    "        y : 次の形のndarray, shape (n_samples, )\n",
    "            訓練データの正解値\n",
    "        X_val : 次の形のndarray, shape (n_samples, n_features)\n",
    "            検証データの特徴量\n",
    "        y_val : 次の形のndarray, shape (n_samples, )\n",
    "            検証データの正解値\n",
    "        \"\"\"\n",
    "        #訓練用データ、検証用データの形を整える\n",
    "        if y.ndim == 1:  #yが１次元のとき\n",
    "            self.y = y[:,np.newaxis]  #_linear_hypothesisの返り値（行列）にサイズを合わせるためreshapeする\n",
    "        else:\n",
    "            self.y = y\n",
    "        self.y_val = y_val\n",
    "        if self.bias == True:  #バイアス項がある時\n",
    "            if X.ndim == 1:  #１次元の時(２次元であればここはスルー)\n",
    "                X = X[:,np.newaxis]  #バイアス項と結合できるようにXを２次元に変形\n",
    "            self.X = np.concatenate([np.ones(X.shape[0])[:,np.newaxis],X],axis=1)  #バイアス項を結合\n",
    "            if(len(X_val) != 1) & (len(y_val) != 1): #検証データが入力された場合（入力されない場合は何もしない）\n",
    "                if X_val.ndim == 1:  #検証データが１次元の時\n",
    "                    X_val = X_val[:,np.newaxis]  #バイアス項と結合できるようにXを２次元に変形\n",
    "                self.X_val = np.concatenate([np.ones(X_val.shape[0])[:,np.newaxis],X_val],axis=1)  #バイアス項を結合\n",
    "        \n",
    "        else:  #バイアス項がない時\n",
    "            if X.ndim ==1:  #Xが１次元の時\n",
    "                self.X = X[:,np.newaxis]\n",
    "                self.X_val = X_val[:,np.newaxis]\n",
    "            else:  #Xが２次元の時\n",
    "                self.X = X\n",
    "                self.X_val = X_val\n",
    "        \n",
    "        #ここから計算\n",
    "        if (len(X_val) != 1) & (len(y_val) != 1):  #検証データが入力された場合\n",
    "            error = self._gradient_descent(self.X)\n",
    "            self.loss[0] = loss_func(self.predict(self.X),y,self.theta,self.lam)\n",
    "            self.val_loss[0] = loss_func(self.predict(self.X_val),y_val,self.theta,self.lam)\n",
    "            for i in range(self.iter-1):  #iter-1回,_gradient_descentを実行する\n",
    "                error = self._gradient_descent(self.X,error)\n",
    "                self.loss[i+1] = loss_func(self.predict_proba(self.X),self.y,self.theta,self.lam)\n",
    "                self.val_loss[i+1] = loss_func(self.predict_proba(self.X_val),self.y_val,self.theta,self.lam)\n",
    "                if self.verbose:\n",
    "                    #verboseをTrueにした際は学習過程を出力\n",
    "                    print(\"{}回目\".format(i+1))\n",
    "                    print(\"theta:{}\".format(self.theta))\n",
    "                    print(\"損失:{}\".format(self.val_loss[i+1]))\n",
    "                    print(\"精度（平均2乗誤差）:{}\\n\".format(MSE(self.predict(self.X_val),self.y_val)))\n",
    "        else:  #検証データが入力されない場合\n",
    "            error = self._gradient_descent(self.X)\n",
    "            self.loss[0] =  loss_func(self.predict(self.X),y)\n",
    "            for i in range(self.iter-1):\n",
    "                error = self._gradient_descent(self.X,error)\n",
    "                self.loss[i+1] = loss_func(self.predict(self.X),y)\n",
    "                if self.verbose:\n",
    "                    #verboseをTrueにした際は学習過程を出力\n",
    "                    print(\"{}回目\".format(i+1))\n",
    "                    print(\"theta:\\n{}\".format(self.theta))\n",
    "\n",
    "    def _gradient_descent(self, X,error=np.empty(1)):\n",
    "        \"\"\"\n",
    "        θとXを用いて次のθを計算する\n",
    "        Parameters\n",
    "        ----------\n",
    "        X : 次の形のndarray, shape (n_samples, n_features)\n",
    "            訓練データの特徴量\n",
    "            \n",
    "        error:次の形のndarray,shape (n_samples,)\n",
    "            予測値と正解値の残差\n",
    "        --------\n",
    "        Returns\n",
    "        --------\n",
    "        次の形のndarray,shape(n_samples,)\n",
    "        予測値と正解値の残差\n",
    "        \"\"\"\n",
    "        if error.shape == (1,):  #errorが渡されていない時\n",
    "            #θが与えられていない時だけ初期化する\n",
    "            if self.theta.shape == (1,):\n",
    "                self.theta = np.ones(X.shape[1]).reshape(1,-1)  #θを1で初期化\n",
    "            error = (self._linear_hypothesis(X) - self.y).reshape(1,-1)\n",
    "        else:  #errorが渡されている時\n",
    "            error = (self.predict_proba(X) - self.y).flatten()\n",
    "        self.theta[0,0] = self.theta[0,0]- (self.lr/X.shape[0])*error@self.X[:,0]\n",
    "        self.theta[0,1:] = self.theta[0,1:] - (self.lr/X.shape[0])*error@self.X[:,1:]+ (self.lam/X.shape[0])*self.theta[0,1:]\n",
    "        return error\n",
    "\n",
    "    def _linear_hypothesis(self, X):\n",
    "        \"\"\"\n",
    "        線形の仮定関数を計算する\n",
    "        Parameters\n",
    "        ----------\n",
    "        X : 次の形のndarray, shape (n_samples, n_features)\n",
    "        訓練データ\n",
    "        Returns\n",
    "        -------\n",
    "        次の形のndarray, shape (n_samples, 1)\n",
    "        線形の仮定関数による推定結果\n",
    "        \"\"\"\n",
    "        if X.ndim == 1:  #Xが１次元の時\n",
    "            X = X[:,np.newaxis]  #２次元に変形\n",
    "        if (X.shape[1] != self.theta.T.shape[0])&(self.bias==True):\n",
    "            #x_0が含まれていない状態でXを受け取り（外部からのメソッド呼び出しを想定）、かつバイアス項を使う時\n",
    "            X = np.concatenate([np.ones(X.shape[0])[:,np.newaxis],X],axis=1)\n",
    "        return np.dot(X,self.theta.T)\n",
    "    \n",
    "    def predict(self, X):\n",
    "        \"\"\"\n",
    "        ロジスティック回帰を使いラベルを推定する。\n",
    "\n",
    "        Parameters\n",
    "        ----------\n",
    "        X : 次の形のndarray, shape (n_samples, n_features)\n",
    "            サンプル\n",
    "\n",
    "        Returns\n",
    "        -------\n",
    "            次の形のndarray, shape (n_samples, 1)\n",
    "            ロジスティック回帰による推定結果\n",
    "        \"\"\"\n",
    "        #閾値を設定\n",
    "        threshold = 0.5\n",
    "        X_pred = self.predict_proba(X).flatten()\n",
    "        X_pred[X_pred<threshold]  = 0\n",
    "        X_pred[X_pred>=threshold] = 1\n",
    "        return X_pred\n",
    "    def predict_proba(self, X):\n",
    "        \"\"\"\n",
    "        ロジスティック回帰を使い確率を推定する。\n",
    "\n",
    "        Parameters\n",
    "        ----------\n",
    "        X : 次の形のndarray, shape (n_samples, n_features)\n",
    "            サンプル\n",
    "\n",
    "        Returns\n",
    "        -------\n",
    "            次の形のndarray, shape (n_samples, 1)\n",
    "            ロジスティック回帰による推定結果\n",
    "        \"\"\"\n",
    "    \n",
    "        return 1/(1+np.exp(-self._linear_hypothesis(X)))"
   ]
  },
  {
   "cell_type": "markdown",
   "metadata": {},
   "source": [
    "# 【問題4】目的関数\n",
    "以下の数式で表されるロジスティック回帰の 目的関数（損失関数） を実装してください。そして、これをself.loss, self.val_lossに記録するようにしてください。\n",
    "\n",
    "\n",
    "なお、この数式には正則化項が含まれています。\n",
    "\n",
    "### $\n",
    "J(\\theta)=  \\frac{1}{m}  \\sum_{i=1}^{m}[−y^{(i)} log(h_θ(x^{(i)})) − (1−y^{(i)}) log(1−h_θ(x^{(i)}))] +\n",
    "\\frac{λ}{2m}\\sum_{j=1}^n\n",
    "θ^2_j.\\\\\n",
    "$\n",
    "\n",
    "m\n",
    "  : 入力されるデータの数\n",
    "\n",
    "\n",
    "h(θ)\n",
    " : 仮定関数\n",
    "\n",
    "\n",
    "x\n",
    " : 特徴量ベクトル\n",
    "\n",
    "\n",
    "θ\n",
    " : パラメータ（重み）ベクトル\n",
    "\n",
    "\n",
    "x\n",
    "(\n",
    "i\n",
    ")\n",
    " : i番目のサンプルの特徴量ベクトル\n",
    "\n",
    "\n",
    "y\n",
    "(\n",
    "i\n",
    ")\n",
    " : i番目のサンプルの正解ラベル\n",
    "\n",
    "\n",
    "θ\n",
    "j\n",
    " : j番目のパラメータ（重み）\n",
    "\n",
    "\n",
    "n\n",
    " : 特徴量の数\n",
    "\n",
    "\n",
    "λ\n",
    " : 正則化パラメータ"
   ]
  },
  {
   "cell_type": "code",
   "execution_count": 5,
   "metadata": {},
   "outputs": [],
   "source": [
    "def loss_func(h_x,y,theta,lam):\n",
    "    a = -y*np.log(h_x)\n",
    "    b = (1-y)*np.log(1-h_x)\n",
    "    c = (lam/(2*len(h_x)))*np.sum(theta[1:]**2)\n",
    "    return (np.sum(a-b)/len(h_x)) + c"
   ]
  },
  {
   "cell_type": "markdown",
   "metadata": {},
   "source": [
    "# 【問題5】学習と推定\n",
    "機械学習スクラッチ入門のSprintで用意したirisデータセットのvirgicolorとvirginicaの2値分類に対してスクラッチ実装の学習と推定を行なってください。\n",
    "\n",
    "scikit-learnによる実装と比べ、正しく動いているかを確認してください。\n",
    "\n",
    "AccuracyやPrecision、Recallなどの指標値はscikit-learnを使用してください。"
   ]
  },
  {
   "cell_type": "code",
   "execution_count": 97,
   "metadata": {},
   "outputs": [],
   "source": [
    "iris = load_iris()\n",
    "X = pd.DataFrame(iris.data[50:,:],columns = [\"sepal_length\",\"sepal_width\",\"petal_length\",\"petal_width\"])\n",
    "y = pd.DataFrame(iris.target[50:],columns  = [\"Species\"])\n",
    "y[:50],y[50:100] = 0,1"
   ]
  },
  {
   "cell_type": "code",
   "execution_count": 80,
   "metadata": {},
   "outputs": [],
   "source": [
    "x_train,x_test,y_train,y_test = train_test_split(np.array(X),np.array(y),train_size=0.75,random_state=0)\n",
    "scaler = StandardScaler()\n",
    "scaler.fit(x_train)\n",
    "x_train = scaler.transform(x_train)\n",
    "x_test = scaler.transform(x_test)"
   ]
  },
  {
   "cell_type": "code",
   "execution_count": 194,
   "metadata": {},
   "outputs": [
    {
     "name": "stdout",
     "output_type": "stream",
     "text": [
      "theta: [[0.83601638 5.62411145 3.34097255]]\n"
     ]
    }
   ],
   "source": [
    "#ここから検証\n",
    "slr = ScratchLogisticRegression(lr = 1)\n",
    "slr.fit(x_train,y_train,x_test,y_test)\n",
    "y_pred = slr.predict(x_test)\n",
    "y_pred_proba = slr.predict_proba(x_test)\n",
    "accuracy_score(y_test,y_pred)\n",
    "print(\"theta:\",slr.theta)"
   ]
  },
  {
   "cell_type": "code",
   "execution_count": 82,
   "metadata": {},
   "outputs": [
    {
     "data": {
      "text/plain": [
       "0.92"
      ]
     },
     "execution_count": 82,
     "metadata": {},
     "output_type": "execute_result"
    }
   ],
   "source": [
    "slr = ScratchLogisticRegression(lr = 0.1)\n",
    "slr.fit(x_train,y_train,x_test,y_test)\n",
    "y_pred = slr.predict(x_test)\n",
    "y_pred_proba = slr.predict_proba(x_test)\n",
    "accuracy_score(y_test,y_pred)"
   ]
  },
  {
   "cell_type": "code",
   "execution_count": 83,
   "metadata": {},
   "outputs": [
    {
     "data": {
      "text/plain": [
       "0.92"
      ]
     },
     "execution_count": 83,
     "metadata": {},
     "output_type": "execute_result"
    }
   ],
   "source": [
    "slr = ScratchLogisticRegression(lr = 1e-2)\n",
    "slr.fit(x_train,y_train,x_test,y_test)\n",
    "y_pred = slr.predict(x_test)\n",
    "y_pred_proba = slr.predict_proba(x_test)\n",
    "accuracy_score(y_test,y_pred)"
   ]
  },
  {
   "cell_type": "code",
   "execution_count": 84,
   "metadata": {},
   "outputs": [
    {
     "data": {
      "text/plain": [
       "0.92"
      ]
     },
     "execution_count": 84,
     "metadata": {},
     "output_type": "execute_result"
    }
   ],
   "source": [
    "slr2 = ScratchLogisticRegression(lr = 1e-3)\n",
    "slr2.fit(x_train,y_train,x_test,y_test)\n",
    "y_pred = slr2.predict(x_test)\n",
    "y_pred_proba = slr2.predict_proba(x_test)\n",
    "accuracy_score(y_test,y_pred)"
   ]
  },
  {
   "cell_type": "code",
   "execution_count": 85,
   "metadata": {},
   "outputs": [
    {
     "data": {
      "text/plain": [
       "0.88"
      ]
     },
     "execution_count": 85,
     "metadata": {},
     "output_type": "execute_result"
    }
   ],
   "source": [
    "slr3 = ScratchLogisticRegression(lr = 1e-4)\n",
    "slr3.fit(x_train,y_train,x_test,y_test)\n",
    "y_pred = slr3.predict(x_test)\n",
    "y_pred_proba = slr3.predict_proba(x_test)\n",
    "accuracy_score(y_test,y_pred)"
   ]
  },
  {
   "cell_type": "code",
   "execution_count": 86,
   "metadata": {},
   "outputs": [
    {
     "data": {
      "text/plain": [
       "0.88"
      ]
     },
     "execution_count": 86,
     "metadata": {},
     "output_type": "execute_result"
    }
   ],
   "source": [
    "slr4 = ScratchLogisticRegression(lr = 1e-5)\n",
    "slr4.fit(x_train,y_train,x_test,y_test)\n",
    "y_pred = slr4.predict(x_test)\n",
    "y_pred_proba = slr4.predict_proba(x_test)\n",
    "accuracy_score(y_test,y_pred)"
   ]
  },
  {
   "cell_type": "markdown",
   "metadata": {},
   "source": [
    "### lr = 1：正解率92% \n",
    "### lr = 1e-1：正解率92% \n",
    "### lr = 1e-2：正解率92% \n",
    "### lr = 1e-3：正解率92%  \n",
    "### lr = 1e-4：正解率88%\n",
    "### lr = 1e-5：正解率88%\n",
    "### (イテレーション数:10000,正則化パラメータ:1e-3)"
   ]
  },
  {
   "cell_type": "code",
   "execution_count": 87,
   "metadata": {},
   "outputs": [
    {
     "data": {
      "text/plain": [
       "0.92"
      ]
     },
     "execution_count": 87,
     "metadata": {},
     "output_type": "execute_result"
    }
   ],
   "source": [
    "lr = LogisticRegression()\n",
    "lr.fit(x_train,y_train)\n",
    "y_pred = lr.predict(x_test)\n",
    "accuracy_score(y_test,y_pred)"
   ]
  },
  {
   "cell_type": "markdown",
   "metadata": {},
   "source": [
    "### scikit-learnは92%だった"
   ]
  },
  {
   "cell_type": "markdown",
   "metadata": {},
   "source": [
    "# 【問題6】学習曲線のプロット\n",
    "学習曲線を見て損失が適切に下がっているかどうか確認してください。"
   ]
  },
  {
   "cell_type": "code",
   "execution_count": 88,
   "metadata": {},
   "outputs": [
    {
     "data": {
      "text/plain": [
       "0.92"
      ]
     },
     "execution_count": 88,
     "metadata": {},
     "output_type": "execute_result"
    }
   ],
   "source": [
    "slr_plot = ScratchLogisticRegression(lr = 1e-2)\n",
    "slr_plot.fit(x_train,y_train,x_test,y_test)\n",
    "y_pred = slr_plot.predict(x_test)\n",
    "y_pred_proba = slr.predict_proba(x_test)\n",
    "accuracy_score(y_test,y_pred)"
   ]
  },
  {
   "cell_type": "code",
   "execution_count": 89,
   "metadata": {},
   "outputs": [
    {
     "data": {
      "image/png": "[encoded data removed]",
      "text/plain": [
       "<Figure size 648x432 with 1 Axes>"
      ]
     },
     "metadata": {
      "needs_background": "light"
     },
     "output_type": "display_data"
    }
   ],
   "source": [
    "fig,ax = plt.subplots(1,1,figsize=(9,6))\n",
    "ax.set_title(\"model loss(alpha={})\".format(slr_plot.lr))\n",
    "ax.plot(np.arange(len(slr_plot.loss)),slr_plot.loss,label=\"train_loss\",linewidth=8)\n",
    "ax.plot(np.arange(len(slr_plot.val_loss)),slr_plot.val_loss,label=\"val_loss\",linewidth=8)\n",
    "ax.legend()\n",
    "plt.show()"
   ]
  },
  {
   "cell_type": "markdown",
   "metadata": {},
   "source": [
    "# 【問題7】決定領域の可視化\n",
    "決定領域を可視化してください。"
   ]
  },
  {
   "cell_type": "code",
   "execution_count": 196,
   "metadata": {},
   "outputs": [],
   "source": [
    "#3次元で可視化するために特徴量を２つにする\n",
    "X = pd.DataFrame(iris.data[50:,2:4],columns = [\"sepal_width\",\"petal_length\"])\n",
    "y = pd.DataFrame(iris.target[50:],columns  = [\"Species\"])\n",
    "y[:50],y[50:100] = 0,1\n",
    "x_train,x_test,y_train,y_test = train_test_split(np.array(X),np.array(y),train_size=0.75,random_state=0)\n",
    "scaler = StandardScaler()\n",
    "scaler.fit(x_train)\n",
    "x_train = scaler.transform(x_train)\n",
    "x_test = scaler.transform(x_test)"
   ]
  },
  {
   "cell_type": "code",
   "execution_count": 197,
   "metadata": {},
   "outputs": [
    {
     "data": {
      "text/plain": [
       "0.96"
      ]
     },
     "execution_count": 197,
     "metadata": {},
     "output_type": "execute_result"
    }
   ],
   "source": [
    "slr_plot2 = ScratchLogisticRegression(lr=1e-2)\n",
    "slr_plot2.fit(x_train,y_train,x_test,y_test)\n",
    "y_pred = slr_plot2.predict(x_test)\n",
    "accuracy_score(y_test,y_pred)"
   ]
  },
  {
   "cell_type": "code",
   "execution_count": 198,
   "metadata": {},
   "outputs": [
    {
     "name": "stdout",
     "output_type": "stream",
     "text": [
      "z = 0.5337121013644698x + 3.5286827092019983y + 2.9955657465940893\n"
     ]
    },
    {
     "data": {
      "image/png": "[encoded data removed]",
      "text/plain": [
       "<Figure size 432x288 with 1 Axes>"
      ]
     },
     "metadata": {
      "needs_background": "light"
     },
     "output_type": "display_data"
    }
   ],
   "source": [
    "X2 = StandardScaler().fit_transform(np.array(X))\n",
    "x1 = np.arange(-2,2,0.3)\n",
    "y1 = np.arange(-2,2,0.3)\n",
    "a = slr_plot2.theta[0,1]\n",
    "b = slr_plot2.theta[0,2]\n",
    "X1, Y1 = np.meshgrid(x1, y1)\n",
    "Z1 = bias + X1*a + Y1*b\n",
    "\n",
    "bias = slr_plot2.theta[0,0]\n",
    "print(\"z = {}x + {}y + {}\".format(*slr_plot2.theta[0]))\n",
    "plt.rcParams[\"font.size\"] = 16\n",
    "fig = plt.figure()\n",
    "ax1 = Axes3D(fig)\n",
    "ax1.set_xlabel(X.keys()[0])\n",
    "ax1.set_ylabel(X.keys()[1])\n",
    "ax1.set_zlabel(\"label\")\n",
    "ax1.set_xlim(-2,2)\n",
    "ax1.set_ylim(-2,2)\n",
    "ax1.set_zlim(0,1)\n",
    "\n",
    "# データプロットする。\n",
    "ax1.plot_wireframe(X1, Y1, Z1, label='region',alpha=0.3)\n",
    "x1 = X2[:50,0]\n",
    "y1 = X2[:50,1]\n",
    "z1 = 0\n",
    "x2 = X2[50:100,0]\n",
    "y2 = X2[50:100,1]\n",
    "z2 = 1\n",
    "ax1.plot(x1,y1,z1,marker=\"o\",linestyle=\"None\",color=\"r\",label=0)\n",
    "ax1.plot(x2,y2,z2,marker=\"o\",linestyle=\"None\",color=\"b\",label=1)\n",
    "ax1.legend()\n",
    "# グラフを表示する。\n",
    "plt.show()\n",
    "plt.close()"
   ]
  },
  {
   "cell_type": "markdown",
   "metadata": {},
   "source": [
    "# 【問題8】（アドバンス課題）重みの保存\n",
    "検証が容易になるように、学習した重みを保存および読み込みができるようにしましょう。pickleモジュールやNumPyのnp.savezを利用します。"
   ]
  },
  {
   "cell_type": "markdown",
   "metadata": {},
   "source": [
    "ScratchLogisticRegressionをインスタンス化するときにnameに、  \n",
    "【すでに使ったことがあり、\"files/[インスタンス名].npz\"にθを保存してあるインスタンス名】  \n",
    "をstr型で指定すると、θをそのファイルから取ってきた値で初期化するようにコンストラクタを変更した。  \n",
    "以下に、具体的にこれを用いた例を示す。"
   ]
  },
  {
   "cell_type": "code",
   "execution_count": 199,
   "metadata": {},
   "outputs": [
    {
     "name": "stdout",
     "output_type": "stream",
     "text": [
      "正解率: 0.96\n",
      "theta: [[0.5337121  3.52868271 2.99556575]]\n"
     ]
    }
   ],
   "source": [
    "slr = ScratchLogisticRegression(lr = 1e-2)\n",
    "slr.fit(x_train,y_train,x_test,y_test)\n",
    "y_pred = slr.predict(x_test)\n",
    "print(\"正解率:\",accuracy_score(y_test,y_pred))\n",
    "np.savez(\"files/slr\",slr = slr.theta)  #ここでθを保存し、次回以降呼び出せるようにした\n",
    "npz_kw = np.load(\"files/slr.npz\")\n",
    "print(\"theta:\",npz_kw[\"slr\"])"
   ]
  },
  {
   "cell_type": "code",
   "execution_count": 200,
   "metadata": {},
   "outputs": [
    {
     "name": "stdout",
     "output_type": "stream",
     "text": [
      "theta: [[0.5337121  3.52868271 2.99556575]]\n"
     ]
    }
   ],
   "source": [
    "#インスタンス化した時点でthetaに、上で求めた値が入っているのがわかる\n",
    "slr2 = ScratchLogisticRegression(lr = 1e-2,name=\"slr\")\n",
    "print(\"theta:\",slr2.theta)"
   ]
  },
  {
   "cell_type": "markdown",
   "metadata": {},
   "source": [
    "2つ上のセルと同じようにクラスを呼び出すと、計算後もθは同じ値が返ってくるはず(θはこれまでnp.empty(1)で初期化していたため)だが、  name=\"slr\"と指定するとθの初期値が変わるため最終的なθの値も変化する"
   ]
  },
  {
   "cell_type": "code",
   "execution_count": 191,
   "metadata": {},
   "outputs": [
    {
     "name": "stdout",
     "output_type": "stream",
     "text": [
      "正解率: 0.96\n",
      "theta: [[0.70382429 4.52810527 3.48824067]]\n"
     ]
    }
   ],
   "source": [
    "slr3 = ScratchLogisticRegression(lr = 1e-2,name=\"slr\")\n",
    "slr3.fit(x_train,y_train,x_test,y_test)\n",
    "y_pred = slr3.predict(x_test)\n",
    "print(\"正解率:\",accuracy_score(y_test,y_pred))\n",
    "print(\"theta:\",slr3.theta)"
   ]
  },
  {
   "cell_type": "markdown",
   "metadata": {},
   "source": [
    "このように値が変化した。"
   ]
  },
  {
   "cell_type": "code",
   "execution_count": null,
   "metadata": {},
   "outputs": [],
   "source": []
  }
 ],
 "metadata": {
  "kernelspec": {
   "display_name": "Python 3",
   "language": "python",
   "name": "python3"
  },
  "language_info": {
   "codemirror_mode": {
    "name": "ipython",
    "version": 3
   },
   "file_extension": ".py",
   "mimetype": "text/x-python",
   "name": "python",
   "nbconvert_exporter": "python",
   "pygments_lexer": "ipython3",
   "version": "3.7.2"
  }
 },
 "nbformat": 4,
 "nbformat_minor": 2
}
