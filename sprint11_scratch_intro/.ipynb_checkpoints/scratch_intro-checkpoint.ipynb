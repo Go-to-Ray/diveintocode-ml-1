{
 "cells": [
  {
   "cell_type": "markdown",
   "metadata": {},
   "source": [
    "# 【問題1】train_test_splitのスクラッチ\n",
    "スクラッチの練習として、scikit-learnのtrain_test_splitを自作してみます。以下の雛形をベースとして関数を完成させてください。\n",
    "\n"
   ]
  },
  {
   "cell_type": "code",
   "execution_count": 11,
   "metadata": {},
   "outputs": [],
   "source": [
    "import numpy as np\n",
    "import random\n",
    "from sklearn.datasets import load_iris\n",
    "import pandas as pd\n",
    "from sklearn.linear_model import SGDClassifier\n",
    "from sklearn.preprocessing import StandardScaler\n",
    "from sklearn.pipeline import Pipeline\n",
    "from sklearn.svm import SVC\n",
    "from sklearn.tree import DecisionTreeClassifier\n",
    "from sklearn.linear_model import SGDRegressor\n",
    "from sklearn.metrics import r2_score\n",
    "from sklearn.metrics import mean_squared_error\n",
    "from sklearn.metrics import mean_absolute_error\n",
    "from sklearn.metrics import accuracy_score\n",
    "from sklearn.metrics import precision_score\n",
    "from sklearn.metrics import recall_score\n",
    "from sklearn.metrics import f1_score\n",
    "import warnings\n",
    "import sys\n",
    "\n",
    "warnings.simplefilter(\"ignore\")"
   ]
  },
  {
   "cell_type": "code",
   "execution_count": 12,
   "metadata": {},
   "outputs": [],
   "source": [
    "def scratch_train_test_split(X, y, train_size=0.8,):\n",
    "    \"\"\"\n",
    "    検証データを分割する。\n",
    "\n",
    "    Parameters\n",
    "    ----------\n",
    "    X : 次の形のndarray, shape (n_samples, n_features)\n",
    "      訓練データ\n",
    "    y : 次の形のndarray, shape (n_samples, )\n",
    "      正解値\n",
    "    train_size : float (0<train_size<1)\n",
    "      何割をtrainとするか指定\n",
    "\n",
    "    Returns\n",
    "    ----------\n",
    "    X_train : 次の形のndarray, shape (n_samples, n_features)\n",
    "      訓練データ\n",
    "    X_test : 次の形のndarray, shape (n_samples, n_features)\n",
    "      検証データ\n",
    "    y_train : 次の形のndarray, shape (n_samples, )\n",
    "      訓練データの正解値\n",
    "    y_test : 次の形のndarray, shape (n_samples, )\n",
    "      検証データの正解値\n",
    "    \"\"\"\n",
    "    #ここにコードを書く\n",
    "    if X.shape[0] != y.shape[0]:\n",
    "        print('Error: configuration failed', file=sys.stderr)\n",
    "        sys.exit(\"配列のサイズが一致しません\")\n",
    "    else:\n",
    "        square_size = X.shape[0]*X.shape[1]\n",
    "        x_index_size = int(X.shape[0]*train_size)\n",
    "        y_index_size = int(y.shape[0]*train_size)\n",
    "        list_order = np.random.choice(np.arange(X.shape[0]),size = (X.shape[0],),replace = False)\n",
    "        #重複を許さずランダムに値を格納し、訓練用・検証用に分割\n",
    "        x_random_list = X[list_order,:]#np.random.choice(X.reshape(square_size,),size = (X.shape[0],X.shape[1]),replace = False)  \n",
    "        y_random_list = y[list_order]#np.random.choice(y.flatten(),size = (y.shape[0],),replace = False)\n",
    "        X_train,X_test = x_random_list[:x_index_size,:],x_random_list[x_index_size:,:]\n",
    "        y_train,y_test = y_random_list[:y_index_size],y_random_list[y_index_size:]\n",
    "        return X_train, X_test, y_train, y_test"
   ]
  },
  {
   "cell_type": "code",
   "execution_count": 13,
   "metadata": {},
   "outputs": [],
   "source": [
    "X = np.arange(100).reshape(10,10)\n",
    "y = np.arange(100,110)\n",
    "x_train,x_test,y_train,y_test = scratch_train_test_split(X,y,train_size=0.5)\n",
    "#print(x_train,x_test,y_train,y_test,sep = \"\\n\\n\")"
   ]
  },
  {
   "cell_type": "markdown",
   "metadata": {},
   "source": [
    "# 【問題2】 分類問題を解くコードの作成\n",
    "分類は3種類の手法をスクラッチします。\n",
    "\n",
    "\n",
    "・ロジスティック回帰  \n",
    "・SVM  \n",
    "・決定木\n",
    "\n",
    "上記3種類の手法で3種類のデータセットを学習・推定するコードを作成してください。"
   ]
  },
  {
   "cell_type": "code",
   "execution_count": 14,
   "metadata": {},
   "outputs": [],
   "source": [
    "#irisデータセット\n",
    "iris = load_iris()\n",
    "X1 = pd.DataFrame(iris.data[50:],columns = [\"sepal_length\",\"sepal_width\",\"petal_length\",\"petal_width\"])\n",
    "y1 = pd.DataFrame(iris.target[50:],columns  = [\"Species\"])\n",
    "#df1 = pd.concat([X,y],axis=1)"
   ]
  },
  {
   "cell_type": "code",
   "execution_count": 15,
   "metadata": {},
   "outputs": [],
   "source": [
    "#シンプルデータセット１\n",
    "import numpy as np\n",
    "np.random.seed(seed=0)\n",
    "n_samples = 500\n",
    "f0 = [-1, 2]\n",
    "f1 = [2, -1]\n",
    "cov = [[1.0,0.8], [0.8, 1.0]]\n",
    "f0 = np.random.multivariate_normal(f0, cov, int(n_samples/2))\n",
    "f1 = np.random.multivariate_normal(f1, cov, int(n_samples/2))\n",
    "X2 = np.concatenate((f0, f1))\n",
    "y2 = np.concatenate((np.ones((int(n_samples/2))), np.ones((int(n_samples/2))) *(-1))).astype(np.int)\n",
    "random_index = np.random.permutation(np.arange(n_samples))\n",
    "X2 = X2[random_index]\n",
    "y2 = y2[random_index]"
   ]
  },
  {
   "cell_type": "code",
   "execution_count": 16,
   "metadata": {},
   "outputs": [],
   "source": [
    "#シンプルデータセット２\n",
    "X3 = np.array([[-0.44699 , -2.8073  ],[-1.4621  , -2.4586  ],\n",
    "       [ 0.10645 ,  1.9242  ],[-3.5944  , -4.0112  ],\n",
    "       [-0.9888  ,  4.5718  ],[-3.1625  , -3.9606  ],\n",
    "       [ 0.56421 ,  0.72888 ],[-0.60216 ,  8.4636  ],\n",
    "       [-0.61251 , -0.75345 ],[-0.73535 , -2.2718  ],\n",
    "       [-0.80647 , -2.2135  ],[ 0.86291 ,  2.3946  ],\n",
    "       [-3.1108  ,  0.15394 ],[-2.9362  ,  2.5462  ],\n",
    "       [-0.57242 , -2.9915  ],[ 1.4771  ,  3.4896  ],\n",
    "       [ 0.58619 ,  0.37158 ],[ 0.6017  ,  4.3439  ],\n",
    "       [-2.1086  ,  8.3428  ],[-4.1013  , -4.353   ],\n",
    "       [-1.9948  , -1.3927  ],[ 0.35084 , -0.031994],\n",
    "       [ 0.96765 ,  7.8929  ],[-1.281   , 15.6824  ],\n",
    "       [ 0.96765 , 10.083   ],[ 1.3763  ,  1.3347  ],\n",
    "       [-2.234   , -2.5323  ],[-2.9452  , -1.8219  ],\n",
    "       [ 0.14654 , -0.28733 ],[ 0.5461  ,  5.8245  ],\n",
    "       [-0.65259 ,  9.3444  ],[ 0.59912 ,  5.3524  ],\n",
    "       [ 0.50214 , -0.31818 ],[-3.0603  , -3.6461  ],\n",
    "       [-6.6797  ,  0.67661 ],[-2.353   , -0.72261 ],\n",
    "       [ 1.1319  ,  2.4023  ],[-0.12243 ,  9.0162  ],\n",
    "       [-2.5677  , 13.1779  ],[ 0.057313,  5.4681  ]])\n",
    "y3 = np.array([0, 0, 0, 0, 0, 0, 0, 0, 0, 0, 0, 0, 0, 0, 0, 0, 0, 0, 0, 0, 1, 1,\n",
    "       1, 1, 1, 1, 1, 1, 1, 1, 1, 1, 1, 1, 1, 1, 1, 1, 1, 1])"
   ]
  },
  {
   "cell_type": "code",
   "execution_count": 17,
   "metadata": {},
   "outputs": [],
   "source": [
    "#訓練データ、テストデータを渡すと３つの方法で分類を行い、それぞれの推定データを返す関数\n",
    "def three_clf(X_train,X_test,y_train,y_test):\n",
    "    scaler_x = StandardScaler()\n",
    "    X_train =scaler_x.fit_transform(X_train)\n",
    "    X_test = scaler_x.fit_transform(X_test)\n",
    "    log_clf = SGDClassifier(loss=\"log\").fit(X_train,y_train)\n",
    "    svc = SVC().fit(X_train,y_train)\n",
    "    dtc = DecisionTreeClassifier().fit(X_train,y_train)\n",
    "    return log_clf.predict(X_test),svc.predict(X_test),dtc.predict(X_test)\n",
    "\n",
    "#推定データ、テストデータを渡すと指標値をprintする関数\n",
    "def print_values(arr_pred,y_test_):\n",
    "    list = [\"SGDClassifier\",\"SVC\",\"DecisionTreeClassifier\"]\n",
    "    for i,clf in enumerate(list):\n",
    "        print(clf)\n",
    "        print(\"Accuracy(正解率)：{}\\nPrecision(適合率)：{}\\n\\\n",
    "        Recall(再現率)：{}\\nF値：{}\".format(*evaluate(arr_pred[i],y_test_)))\n",
    "        print(\"-----------------------------------------------\")\n",
    "    \n",
    "#推定データ、テストデータを渡すと指標値を返す関数\n",
    "def evaluate(arr,test_arr):\n",
    "    return accuracy_score(test_arr,arr),precision_score(test_arr,arr),recall_score(test_arr,arr),f1_score(test_arr,arr)"
   ]
  },
  {
   "cell_type": "markdown",
   "metadata": {},
   "source": [
    "・irisデータセット"
   ]
  },
  {
   "cell_type": "code",
   "execution_count": 19,
   "metadata": {},
   "outputs": [
    {
     "name": "stdout",
     "output_type": "stream",
     "text": [
      "SGDClassifier\n",
      "Accuracy(正解率)：0.9\n",
      "Precision(適合率)：1.0\n",
      "        Recall(再現率)：0.8461538461538461\n",
      "F値：0.9166666666666666\n",
      "-----------------------------------------------\n",
      "SVC\n",
      "Accuracy(正解率)：0.85\n",
      "Precision(適合率)：1.0\n",
      "        Recall(再現率)：0.7692307692307693\n",
      "F値：0.8695652173913044\n",
      "-----------------------------------------------\n",
      "DecisionTreeClassifier\n",
      "Accuracy(正解率)：0.8\n",
      "Precision(適合率)：1.0\n",
      "        Recall(再現率)：0.6923076923076923\n",
      "F値：0.8181818181818181\n",
      "-----------------------------------------------\n"
     ]
    }
   ],
   "source": [
    "#自作関数で訓練データ、テストデータに分割\n",
    "x_train,x_test,y_train,y_test = scratch_train_test_split(np.array(X1),np.array(y1))\n",
    "#標準化\n",
    "#x_train,x_test = scaler.fit_transform(x_train),scaler.fit_transform(x_test)\n",
    "#分類\n",
    "y_pred = three_clf(x_train,x_test,y_train,y_test)\n",
    "#表示\n",
    "print_values(y_pred,y_test)"
   ]
  },
  {
   "cell_type": "markdown",
   "metadata": {},
   "source": [
    "・シンプルデータセット1"
   ]
  },
  {
   "cell_type": "code",
   "execution_count": 21,
   "metadata": {},
   "outputs": [
    {
     "name": "stdout",
     "output_type": "stream",
     "text": [
      "SGDClassifier\n",
      "Accuracy(正解率)：1.0\n",
      "Precision(適合率)：1.0\n",
      "        Recall(再現率)：1.0\n",
      "F値：1.0\n",
      "-----------------------------------------------\n",
      "SVC\n",
      "Accuracy(正解率)：1.0\n",
      "Precision(適合率)：1.0\n",
      "        Recall(再現率)：1.0\n",
      "F値：1.0\n",
      "-----------------------------------------------\n",
      "DecisionTreeClassifier\n",
      "Accuracy(正解率)：1.0\n",
      "Precision(適合率)：1.0\n",
      "        Recall(再現率)：1.0\n",
      "F値：1.0\n",
      "-----------------------------------------------\n"
     ]
    }
   ],
   "source": [
    "#自作関数で訓練データ、テストデータに分割\n",
    "x_train,x_test,y_train,y_test = scratch_train_test_split(np.array(X2),np.array(y2))\n",
    "#標準化\n",
    "#x_train,x_test = scaler.fit_transform(x_train),scaler.fit_transform(x_test)\n",
    "#分類\n",
    "y_pred = three_clf(x_train,x_test,y_train,y_test)\n",
    "#表示\n",
    "print_values(y_pred,y_test)"
   ]
  },
  {
   "cell_type": "markdown",
   "metadata": {},
   "source": [
    "・シンプルデータセット2"
   ]
  },
  {
   "cell_type": "code",
   "execution_count": 22,
   "metadata": {},
   "outputs": [
    {
     "name": "stdout",
     "output_type": "stream",
     "text": [
      "SGDClassifier\n",
      "Accuracy(正解率)：0.25\n",
      "Precision(適合率)：0.0\n",
      "        Recall(再現率)：0.0\n",
      "F値：0.0\n",
      "-----------------------------------------------\n",
      "SVC\n",
      "Accuracy(正解率)：0.375\n",
      "Precision(適合率)：1.0\n",
      "        Recall(再現率)：0.16666666666666666\n",
      "F値：0.2857142857142857\n",
      "-----------------------------------------------\n",
      "DecisionTreeClassifier\n",
      "Accuracy(正解率)：0.5\n",
      "Precision(適合率)：1.0\n",
      "        Recall(再現率)：0.3333333333333333\n",
      "F値：0.5\n",
      "-----------------------------------------------\n"
     ]
    }
   ],
   "source": [
    "#自作関数で訓練データ、テストデータに分割\n",
    "x_train,x_test,y_train,y_test = scratch_train_test_split(np.array(X3),np.array(y3))\n",
    "#分類\n",
    "y_pred = three_clf(x_train,x_test,y_train,y_test)\n",
    "#表示\n",
    "print_values(y_pred,y_test)"
   ]
  },
  {
   "cell_type": "markdown",
   "metadata": {},
   "source": [
    "# 【問題3】 回帰問題を解くコードの作成\n",
    "線形回帰でHouse Pricesデータセットを学習・推定するコードを作成してください。\n",
    "\n",
    "データセットは事前学習期間同様にHouse Pricesコンペティションのものを使います。"
   ]
  },
  {
   "cell_type": "code",
   "execution_count": 1,
   "metadata": {},
   "outputs": [
    {
     "ename": "NameError",
     "evalue": "name 'pd' is not defined",
     "output_type": "error",
     "traceback": [
      "\u001b[0;31m---------------------------------------------------------------------------\u001b[0m",
      "\u001b[0;31mNameError\u001b[0m                                 Traceback (most recent call last)",
      "\u001b[0;32m<ipython-input-1-59b78d561a57>\u001b[0m in \u001b[0;36m<module>\u001b[0;34m()\u001b[0m\n\u001b[0;32m----> 1\u001b[0;31m \u001b[0mdata\u001b[0m \u001b[0;34m=\u001b[0m \u001b[0mpd\u001b[0m\u001b[0;34m.\u001b[0m\u001b[0mread_csv\u001b[0m\u001b[0;34m(\u001b[0m\u001b[0;34m\"train.csv\"\u001b[0m\u001b[0;34m)\u001b[0m\u001b[0;34m\u001b[0m\u001b[0;34m\u001b[0m\u001b[0m\n\u001b[0m\u001b[1;32m      2\u001b[0m \u001b[0mlabel\u001b[0m \u001b[0;34m=\u001b[0m \u001b[0;34m[\u001b[0m\u001b[0;34m\"GrLivArea\"\u001b[0m\u001b[0;34m,\u001b[0m\u001b[0;34m\"YearBuilt\"\u001b[0m\u001b[0;34m,\u001b[0m\u001b[0;34m\"SalePrice\"\u001b[0m\u001b[0;34m]\u001b[0m\u001b[0;34m\u001b[0m\u001b[0;34m\u001b[0m\u001b[0m\n\u001b[1;32m      3\u001b[0m \u001b[0mdf\u001b[0m \u001b[0;34m=\u001b[0m \u001b[0mdata\u001b[0m\u001b[0;34m.\u001b[0m\u001b[0mloc\u001b[0m\u001b[0;34m[\u001b[0m\u001b[0;34m:\u001b[0m\u001b[0;34m,\u001b[0m\u001b[0mlabel\u001b[0m\u001b[0;34m]\u001b[0m\u001b[0;34m\u001b[0m\u001b[0;34m\u001b[0m\u001b[0m\n\u001b[1;32m      4\u001b[0m \u001b[0mdisplay\u001b[0m\u001b[0;34m(\u001b[0m\u001b[0mdf\u001b[0m\u001b[0;34m.\u001b[0m\u001b[0mhead\u001b[0m\u001b[0;34m(\u001b[0m\u001b[0;34m)\u001b[0m\u001b[0;34m)\u001b[0m\u001b[0;34m\u001b[0m\u001b[0;34m\u001b[0m\u001b[0m\n",
      "\u001b[0;31mNameError\u001b[0m: name 'pd' is not defined"
     ]
    }
   ],
   "source": [
    "data = pd.read_csv(\"train.csv\")\n",
    "label = [\"GrLivArea\",\"YearBuilt\",\"SalePrice\"]\n",
    "df = data.loc[:,label]\n",
    "display(df.head())"
   ]
  },
  {
   "cell_type": "code",
   "execution_count": 346,
   "metadata": {},
   "outputs": [],
   "source": [
    "#線形回帰を関数化\n",
    "def predict_prices(x_train,x_test,y_train,y_test):\n",
    "    reg = SGDRegressor()\n",
    "    reg.fit(x_train,y_train)\n",
    "    return reg.predict(x_test)\n",
    "\n",
    "#推定データ、テストデータを渡すと指標値をprintする関数\n",
    "def print_values2(arr_pred,y_test_):\n",
    "        print(\"R2 (決定係数)：{}\\n平均二乗誤差：{}\\n平均絶対誤差：{}\".format(*evaluate2(arr_pred,y_test_)))\n",
    "    \n",
    "#推定データ、テストデータを渡すと指標値を返す関数\n",
    "def evaluate2(arr,test_arr):\n",
    "    return r2_score(test_arr, arr),mean_squared_error(test_arr, arr),mean_absolute_error(test_arr, arr)\n"
   ]
  },
  {
   "cell_type": "code",
   "execution_count": 350,
   "metadata": {},
   "outputs": [
    {
     "name": "stdout",
     "output_type": "stream",
     "text": [
      "R2 (決定係数)：0.702408800030763\n",
      "平均二乗誤差：0.3298292713013002\n",
      "平均絶対誤差：0.3738497207101681\n"
     ]
    }
   ],
   "source": [
    "#訓練データ、検証データに分割\n",
    "x_train,x_test,y_train,y_test = scratch_train_test_split(np.array(df.iloc[:,:2]),np.array(df.SalePrice),train_size = 0.8)\n",
    "scaler_x = StandardScaler()\n",
    "scaler_y = StandardScaler()\n",
    "#標準化\n",
    "scaler_x.fit(x_train)\n",
    "scaler_y.fit(y_train[:,np.newaxis])\n",
    "x_train,x_test = scaler_x.transform(x_train),scaler_x.transform(x_test)\n",
    "y_train,y_test = scaler_y.transform(y_train[:,np.newaxis]).flatten(),scaler_y.transform(y_test[:,np.newaxis]).flatten()\n",
    "\n",
    "y_pred = predict_prices(x_train,x_test,y_train,y_test)\n",
    "print_values2(y_pred,y_test)"
   ]
  },
  {
   "cell_type": "code",
   "execution_count": null,
   "metadata": {},
   "outputs": [],
   "source": []
  }
 ],
 "metadata": {
  "kernelspec": {
   "display_name": "Python 3",
   "language": "python",
   "name": "python3"
  },
  "language_info": {
   "codemirror_mode": {
    "name": "ipython",
    "version": 3
   },
   "file_extension": ".py",
   "mimetype": "text/x-python",
   "name": "python",
   "nbconvert_exporter": "python",
   "pygments_lexer": "ipython3",
   "version": "3.7.2"
  }
 },
 "nbformat": 4,
 "nbformat_minor": 2
}
